{
 "metadata": {
  "language_info": {
   "codemirror_mode": {
    "name": "ipython",
    "version": 3
   },
   "file_extension": ".py",
   "mimetype": "text/x-python",
   "name": "python",
   "nbconvert_exporter": "python",
   "pygments_lexer": "ipython3",
   "version": "3.7.6-final"
  },
  "orig_nbformat": 2,
  "kernelspec": {
   "name": "python_defaultSpec_1599838777581",
   "display_name": "Python 3.7.6 64-bit"
  }
 },
 "nbformat": 4,
 "nbformat_minor": 2,
 "cells": [
  {
   "cell_type": "code",
   "execution_count": 1,
   "metadata": {},
   "outputs": [],
   "source": [
    "#Introduccion al pandas\n",
    "import pandas as pd"
   ]
  },
  {
   "cell_type": "code",
   "execution_count": 2,
   "metadata": {},
   "outputs": [],
   "source": [
    "df = pd.read_csv(\"base_datos_2008.csv\", nrows = 100000)"
   ]
  },
  {
   "cell_type": "code",
   "execution_count": 3,
   "metadata": {},
   "outputs": [
    {
     "output_type": "execute_result",
     "data": {
      "text/plain": "   Year  Month  DayofMonth  DayOfWeek  DepTime  CRSDepTime  ArrTime  \\\n0  2008      1           3          4   2003.0        1955   2211.0   \n1  2008      1           3          4    754.0         735   1002.0   \n2  2008      1           3          4    628.0         620    804.0   \n3  2008      1           3          4    926.0         930   1054.0   \n4  2008      1           3          4   1829.0        1755   1959.0   \n5  2008      1           3          4   1940.0        1915   2121.0   \n6  2008      1           3          4   1937.0        1830   2037.0   \n7  2008      1           3          4   1039.0        1040   1132.0   \n8  2008      1           3          4    617.0         615    652.0   \n9  2008      1           3          4   1620.0        1620   1639.0   \n\n   CRSArrTime UniqueCarrier  FlightNum  ... TaxiIn  TaxiOut  Cancelled  \\\n0        2225            WN        335  ...    4.0      8.0          0   \n1        1000            WN       3231  ...    5.0     10.0          0   \n2         750            WN        448  ...    3.0     17.0          0   \n3        1100            WN       1746  ...    3.0      7.0          0   \n4        1925            WN       3920  ...    3.0     10.0          0   \n5        2110            WN        378  ...    4.0     10.0          0   \n6        1940            WN        509  ...    3.0      7.0          0   \n7        1150            WN        535  ...    7.0      7.0          0   \n8         650            WN         11  ...    6.0     19.0          0   \n9        1655            WN        810  ...    3.0      6.0          0   \n\n   CancellationCode  Diverted  CarrierDelay WeatherDelay NASDelay  \\\n0               NaN         0           NaN          NaN      NaN   \n1               NaN         0           NaN          NaN      NaN   \n2               NaN         0           NaN          NaN      NaN   \n3               NaN         0           NaN          NaN      NaN   \n4               NaN         0           2.0          0.0      0.0   \n5               NaN         0           NaN          NaN      NaN   \n6               NaN         0          10.0          0.0      0.0   \n7               NaN         0           NaN          NaN      NaN   \n8               NaN         0           NaN          NaN      NaN   \n9               NaN         0           NaN          NaN      NaN   \n\n   SecurityDelay  LateAircraftDelay  \n0            NaN                NaN  \n1            NaN                NaN  \n2            NaN                NaN  \n3            NaN                NaN  \n4            0.0               32.0  \n5            NaN                NaN  \n6            0.0               47.0  \n7            NaN                NaN  \n8            NaN                NaN  \n9            NaN                NaN  \n\n[10 rows x 29 columns]",
      "text/html": "<div>\n<style scoped>\n    .dataframe tbody tr th:only-of-type {\n        vertical-align: middle;\n    }\n\n    .dataframe tbody tr th {\n        vertical-align: top;\n    }\n\n    .dataframe thead th {\n        text-align: right;\n    }\n</style>\n<table border=\"1\" class=\"dataframe\">\n  <thead>\n    <tr style=\"text-align: right;\">\n      <th></th>\n      <th>Year</th>\n      <th>Month</th>\n      <th>DayofMonth</th>\n      <th>DayOfWeek</th>\n      <th>DepTime</th>\n      <th>CRSDepTime</th>\n      <th>ArrTime</th>\n      <th>CRSArrTime</th>\n      <th>UniqueCarrier</th>\n      <th>FlightNum</th>\n      <th>...</th>\n      <th>TaxiIn</th>\n      <th>TaxiOut</th>\n      <th>Cancelled</th>\n      <th>CancellationCode</th>\n      <th>Diverted</th>\n      <th>CarrierDelay</th>\n      <th>WeatherDelay</th>\n      <th>NASDelay</th>\n      <th>SecurityDelay</th>\n      <th>LateAircraftDelay</th>\n    </tr>\n  </thead>\n  <tbody>\n    <tr>\n      <th>0</th>\n      <td>2008</td>\n      <td>1</td>\n      <td>3</td>\n      <td>4</td>\n      <td>2003.0</td>\n      <td>1955</td>\n      <td>2211.0</td>\n      <td>2225</td>\n      <td>WN</td>\n      <td>335</td>\n      <td>...</td>\n      <td>4.0</td>\n      <td>8.0</td>\n      <td>0</td>\n      <td>NaN</td>\n      <td>0</td>\n      <td>NaN</td>\n      <td>NaN</td>\n      <td>NaN</td>\n      <td>NaN</td>\n      <td>NaN</td>\n    </tr>\n    <tr>\n      <th>1</th>\n      <td>2008</td>\n      <td>1</td>\n      <td>3</td>\n      <td>4</td>\n      <td>754.0</td>\n      <td>735</td>\n      <td>1002.0</td>\n      <td>1000</td>\n      <td>WN</td>\n      <td>3231</td>\n      <td>...</td>\n      <td>5.0</td>\n      <td>10.0</td>\n      <td>0</td>\n      <td>NaN</td>\n      <td>0</td>\n      <td>NaN</td>\n      <td>NaN</td>\n      <td>NaN</td>\n      <td>NaN</td>\n      <td>NaN</td>\n    </tr>\n    <tr>\n      <th>2</th>\n      <td>2008</td>\n      <td>1</td>\n      <td>3</td>\n      <td>4</td>\n      <td>628.0</td>\n      <td>620</td>\n      <td>804.0</td>\n      <td>750</td>\n      <td>WN</td>\n      <td>448</td>\n      <td>...</td>\n      <td>3.0</td>\n      <td>17.0</td>\n      <td>0</td>\n      <td>NaN</td>\n      <td>0</td>\n      <td>NaN</td>\n      <td>NaN</td>\n      <td>NaN</td>\n      <td>NaN</td>\n      <td>NaN</td>\n    </tr>\n    <tr>\n      <th>3</th>\n      <td>2008</td>\n      <td>1</td>\n      <td>3</td>\n      <td>4</td>\n      <td>926.0</td>\n      <td>930</td>\n      <td>1054.0</td>\n      <td>1100</td>\n      <td>WN</td>\n      <td>1746</td>\n      <td>...</td>\n      <td>3.0</td>\n      <td>7.0</td>\n      <td>0</td>\n      <td>NaN</td>\n      <td>0</td>\n      <td>NaN</td>\n      <td>NaN</td>\n      <td>NaN</td>\n      <td>NaN</td>\n      <td>NaN</td>\n    </tr>\n    <tr>\n      <th>4</th>\n      <td>2008</td>\n      <td>1</td>\n      <td>3</td>\n      <td>4</td>\n      <td>1829.0</td>\n      <td>1755</td>\n      <td>1959.0</td>\n      <td>1925</td>\n      <td>WN</td>\n      <td>3920</td>\n      <td>...</td>\n      <td>3.0</td>\n      <td>10.0</td>\n      <td>0</td>\n      <td>NaN</td>\n      <td>0</td>\n      <td>2.0</td>\n      <td>0.0</td>\n      <td>0.0</td>\n      <td>0.0</td>\n      <td>32.0</td>\n    </tr>\n    <tr>\n      <th>5</th>\n      <td>2008</td>\n      <td>1</td>\n      <td>3</td>\n      <td>4</td>\n      <td>1940.0</td>\n      <td>1915</td>\n      <td>2121.0</td>\n      <td>2110</td>\n      <td>WN</td>\n      <td>378</td>\n      <td>...</td>\n      <td>4.0</td>\n      <td>10.0</td>\n      <td>0</td>\n      <td>NaN</td>\n      <td>0</td>\n      <td>NaN</td>\n      <td>NaN</td>\n      <td>NaN</td>\n      <td>NaN</td>\n      <td>NaN</td>\n    </tr>\n    <tr>\n      <th>6</th>\n      <td>2008</td>\n      <td>1</td>\n      <td>3</td>\n      <td>4</td>\n      <td>1937.0</td>\n      <td>1830</td>\n      <td>2037.0</td>\n      <td>1940</td>\n      <td>WN</td>\n      <td>509</td>\n      <td>...</td>\n      <td>3.0</td>\n      <td>7.0</td>\n      <td>0</td>\n      <td>NaN</td>\n      <td>0</td>\n      <td>10.0</td>\n      <td>0.0</td>\n      <td>0.0</td>\n      <td>0.0</td>\n      <td>47.0</td>\n    </tr>\n    <tr>\n      <th>7</th>\n      <td>2008</td>\n      <td>1</td>\n      <td>3</td>\n      <td>4</td>\n      <td>1039.0</td>\n      <td>1040</td>\n      <td>1132.0</td>\n      <td>1150</td>\n      <td>WN</td>\n      <td>535</td>\n      <td>...</td>\n      <td>7.0</td>\n      <td>7.0</td>\n      <td>0</td>\n      <td>NaN</td>\n      <td>0</td>\n      <td>NaN</td>\n      <td>NaN</td>\n      <td>NaN</td>\n      <td>NaN</td>\n      <td>NaN</td>\n    </tr>\n    <tr>\n      <th>8</th>\n      <td>2008</td>\n      <td>1</td>\n      <td>3</td>\n      <td>4</td>\n      <td>617.0</td>\n      <td>615</td>\n      <td>652.0</td>\n      <td>650</td>\n      <td>WN</td>\n      <td>11</td>\n      <td>...</td>\n      <td>6.0</td>\n      <td>19.0</td>\n      <td>0</td>\n      <td>NaN</td>\n      <td>0</td>\n      <td>NaN</td>\n      <td>NaN</td>\n      <td>NaN</td>\n      <td>NaN</td>\n      <td>NaN</td>\n    </tr>\n    <tr>\n      <th>9</th>\n      <td>2008</td>\n      <td>1</td>\n      <td>3</td>\n      <td>4</td>\n      <td>1620.0</td>\n      <td>1620</td>\n      <td>1639.0</td>\n      <td>1655</td>\n      <td>WN</td>\n      <td>810</td>\n      <td>...</td>\n      <td>3.0</td>\n      <td>6.0</td>\n      <td>0</td>\n      <td>NaN</td>\n      <td>0</td>\n      <td>NaN</td>\n      <td>NaN</td>\n      <td>NaN</td>\n      <td>NaN</td>\n      <td>NaN</td>\n    </tr>\n  </tbody>\n</table>\n<p>10 rows × 29 columns</p>\n</div>"
     },
     "metadata": {},
     "execution_count": 3
    }
   ],
   "source": [
    "df.head(10) #Muestra las 10 primeras filas"
   ]
  },
  {
   "cell_type": "code",
   "execution_count": 4,
   "metadata": {},
   "outputs": [
    {
     "output_type": "execute_result",
     "data": {
      "text/plain": "       Year  Month  DayofMonth  DayOfWeek  DepTime  CRSDepTime  ArrTime  \\\n99995  2008      1          25          5   2204.0        1935    106.0   \n99996  2008      1          26          6   1933.0        1935   2234.0   \n99997  2008      1          27          7   2047.0        1935   2400.0   \n99998  2008      1          28          1   1956.0        1935   2308.0   \n99999  2008      1          29          2   1938.0        1935   2308.0   \n\n       CRSArrTime UniqueCarrier  FlightNum  ... TaxiIn  TaxiOut  Cancelled  \\\n99995        2257            XE       7676  ...    4.0     17.0          0   \n99996        2257            XE       7676  ...    4.0     16.0          0   \n99997        2257            XE       7676  ...    6.0     18.0          0   \n99998        2257            XE       7676  ...    5.0     25.0          0   \n99999        2257            XE       7676  ...    5.0     41.0          0   \n\n       CancellationCode  Diverted  CarrierDelay WeatherDelay NASDelay  \\\n99995               NaN         0           0.0          0.0      0.0   \n99996               NaN         0           NaN          NaN      NaN   \n99997               NaN         0          23.0          0.0      0.0   \n99998               NaN         0           NaN          NaN      NaN   \n99999               NaN         0           NaN          NaN      NaN   \n\n       SecurityDelay  LateAircraftDelay  \n99995            0.0              129.0  \n99996            NaN                NaN  \n99997            0.0               40.0  \n99998            NaN                NaN  \n99999            NaN                NaN  \n\n[5 rows x 29 columns]",
      "text/html": "<div>\n<style scoped>\n    .dataframe tbody tr th:only-of-type {\n        vertical-align: middle;\n    }\n\n    .dataframe tbody tr th {\n        vertical-align: top;\n    }\n\n    .dataframe thead th {\n        text-align: right;\n    }\n</style>\n<table border=\"1\" class=\"dataframe\">\n  <thead>\n    <tr style=\"text-align: right;\">\n      <th></th>\n      <th>Year</th>\n      <th>Month</th>\n      <th>DayofMonth</th>\n      <th>DayOfWeek</th>\n      <th>DepTime</th>\n      <th>CRSDepTime</th>\n      <th>ArrTime</th>\n      <th>CRSArrTime</th>\n      <th>UniqueCarrier</th>\n      <th>FlightNum</th>\n      <th>...</th>\n      <th>TaxiIn</th>\n      <th>TaxiOut</th>\n      <th>Cancelled</th>\n      <th>CancellationCode</th>\n      <th>Diverted</th>\n      <th>CarrierDelay</th>\n      <th>WeatherDelay</th>\n      <th>NASDelay</th>\n      <th>SecurityDelay</th>\n      <th>LateAircraftDelay</th>\n    </tr>\n  </thead>\n  <tbody>\n    <tr>\n      <th>99995</th>\n      <td>2008</td>\n      <td>1</td>\n      <td>25</td>\n      <td>5</td>\n      <td>2204.0</td>\n      <td>1935</td>\n      <td>106.0</td>\n      <td>2257</td>\n      <td>XE</td>\n      <td>7676</td>\n      <td>...</td>\n      <td>4.0</td>\n      <td>17.0</td>\n      <td>0</td>\n      <td>NaN</td>\n      <td>0</td>\n      <td>0.0</td>\n      <td>0.0</td>\n      <td>0.0</td>\n      <td>0.0</td>\n      <td>129.0</td>\n    </tr>\n    <tr>\n      <th>99996</th>\n      <td>2008</td>\n      <td>1</td>\n      <td>26</td>\n      <td>6</td>\n      <td>1933.0</td>\n      <td>1935</td>\n      <td>2234.0</td>\n      <td>2257</td>\n      <td>XE</td>\n      <td>7676</td>\n      <td>...</td>\n      <td>4.0</td>\n      <td>16.0</td>\n      <td>0</td>\n      <td>NaN</td>\n      <td>0</td>\n      <td>NaN</td>\n      <td>NaN</td>\n      <td>NaN</td>\n      <td>NaN</td>\n      <td>NaN</td>\n    </tr>\n    <tr>\n      <th>99997</th>\n      <td>2008</td>\n      <td>1</td>\n      <td>27</td>\n      <td>7</td>\n      <td>2047.0</td>\n      <td>1935</td>\n      <td>2400.0</td>\n      <td>2257</td>\n      <td>XE</td>\n      <td>7676</td>\n      <td>...</td>\n      <td>6.0</td>\n      <td>18.0</td>\n      <td>0</td>\n      <td>NaN</td>\n      <td>0</td>\n      <td>23.0</td>\n      <td>0.0</td>\n      <td>0.0</td>\n      <td>0.0</td>\n      <td>40.0</td>\n    </tr>\n    <tr>\n      <th>99998</th>\n      <td>2008</td>\n      <td>1</td>\n      <td>28</td>\n      <td>1</td>\n      <td>1956.0</td>\n      <td>1935</td>\n      <td>2308.0</td>\n      <td>2257</td>\n      <td>XE</td>\n      <td>7676</td>\n      <td>...</td>\n      <td>5.0</td>\n      <td>25.0</td>\n      <td>0</td>\n      <td>NaN</td>\n      <td>0</td>\n      <td>NaN</td>\n      <td>NaN</td>\n      <td>NaN</td>\n      <td>NaN</td>\n      <td>NaN</td>\n    </tr>\n    <tr>\n      <th>99999</th>\n      <td>2008</td>\n      <td>1</td>\n      <td>29</td>\n      <td>2</td>\n      <td>1938.0</td>\n      <td>1935</td>\n      <td>2308.0</td>\n      <td>2257</td>\n      <td>XE</td>\n      <td>7676</td>\n      <td>...</td>\n      <td>5.0</td>\n      <td>41.0</td>\n      <td>0</td>\n      <td>NaN</td>\n      <td>0</td>\n      <td>NaN</td>\n      <td>NaN</td>\n      <td>NaN</td>\n      <td>NaN</td>\n      <td>NaN</td>\n    </tr>\n  </tbody>\n</table>\n<p>5 rows × 29 columns</p>\n</div>"
     },
     "metadata": {},
     "execution_count": 4
    }
   ],
   "source": [
    "df.tail() #Muestra las ultimas 5 columnas"
   ]
  },
  {
   "cell_type": "code",
   "execution_count": 5,
   "metadata": {},
   "outputs": [
    {
     "output_type": "execute_result",
     "data": {
      "text/plain": "Index(['Year', 'Month', 'DayofMonth', 'DayOfWeek', 'DepTime', 'CRSDepTime',\n       'ArrTime', 'CRSArrTime', 'UniqueCarrier', 'FlightNum', 'TailNum',\n       'ActualElapsedTime', 'CRSElapsedTime', 'AirTime', 'ArrDelay',\n       'DepDelay', 'Origin', 'Dest', 'Distance', 'TaxiIn', 'TaxiOut',\n       'Cancelled', 'CancellationCode', 'Diverted', 'CarrierDelay',\n       'WeatherDelay', 'NASDelay', 'SecurityDelay', 'LateAircraftDelay'],\n      dtype='object')"
     },
     "metadata": {},
     "execution_count": 5
    }
   ],
   "source": [
    "df.columns #Muestra las columnas que tiene el data set"
   ]
  },
  {
   "cell_type": "code",
   "execution_count": 6,
   "metadata": {},
   "outputs": [
    {
     "output_type": "execute_result",
     "data": {
      "text/plain": "Year                   int64\nMonth                  int64\nDayofMonth             int64\nDayOfWeek              int64\nDepTime              float64\nCRSDepTime             int64\nArrTime              float64\nCRSArrTime             int64\nUniqueCarrier         object\nFlightNum              int64\nTailNum               object\nActualElapsedTime    float64\nCRSElapsedTime         int64\nAirTime              float64\nArrDelay             float64\nDepDelay             float64\nOrigin                object\nDest                  object\nDistance               int64\nTaxiIn               float64\nTaxiOut              float64\nCancelled              int64\nCancellationCode      object\nDiverted               int64\nCarrierDelay         float64\nWeatherDelay         float64\nNASDelay             float64\nSecurityDelay        float64\nLateAircraftDelay    float64\ndtype: object"
     },
     "metadata": {},
     "execution_count": 6
    }
   ],
   "source": [
    "df.dtypes #Muestra los tipos de variable que tiene el data set"
   ]
  },
  {
   "cell_type": "code",
   "execution_count": 7,
   "metadata": {},
   "outputs": [
    {
     "output_type": "execute_result",
     "data": {
      "text/plain": "array([[2008, 1, 3, ..., nan, nan, nan],\n       [2008, 1, 3, ..., nan, nan, nan],\n       [2008, 1, 3, ..., nan, nan, nan],\n       ...,\n       [2008, 1, 27, ..., 0.0, 0.0, 40.0],\n       [2008, 1, 28, ..., nan, nan, nan],\n       [2008, 1, 29, ..., nan, nan, nan]], dtype=object)"
     },
     "metadata": {},
     "execution_count": 7
    }
   ],
   "source": [
    "df.values #Muestra todo los datos que se tiene"
   ]
  },
  {
   "source": [
    "FILTRAR DATOS"
   ],
   "cell_type": "markdown",
   "metadata": {}
  },
  {
   "cell_type": "code",
   "execution_count": 9,
   "metadata": {},
   "outputs": [
    {
     "output_type": "execute_result",
     "data": {
      "text/plain": "0   -14.0\n1     2.0\n2    14.0\n3    -6.0\n4    34.0\nName: ArrDelay, dtype: float64"
     },
     "metadata": {},
     "execution_count": 9
    }
   ],
   "source": [
    "df[\"ArrDelay\"].head() #Muestra los primeros datos de la columna \"Arrdelay\""
   ]
  },
  {
   "cell_type": "code",
   "execution_count": 10,
   "metadata": {},
   "outputs": [
    {
     "output_type": "execute_result",
     "data": {
      "text/plain": "   Year  Month  DayofMonth  DayOfWeek  DepTime  CRSDepTime  ArrTime  \\\n0  2008      1           3          4   2003.0        1955   2211.0   \n1  2008      1           3          4    754.0         735   1002.0   \n2  2008      1           3          4    628.0         620    804.0   \n3  2008      1           3          4    926.0         930   1054.0   \n4  2008      1           3          4   1829.0        1755   1959.0   \n5  2008      1           3          4   1940.0        1915   2121.0   \n6  2008      1           3          4   1937.0        1830   2037.0   \n7  2008      1           3          4   1039.0        1040   1132.0   \n8  2008      1           3          4    617.0         615    652.0   \n9  2008      1           3          4   1620.0        1620   1639.0   \n\n   CRSArrTime UniqueCarrier  FlightNum  ... TaxiIn  TaxiOut  Cancelled  \\\n0        2225            WN        335  ...    4.0      8.0          0   \n1        1000            WN       3231  ...    5.0     10.0          0   \n2         750            WN        448  ...    3.0     17.0          0   \n3        1100            WN       1746  ...    3.0      7.0          0   \n4        1925            WN       3920  ...    3.0     10.0          0   \n5        2110            WN        378  ...    4.0     10.0          0   \n6        1940            WN        509  ...    3.0      7.0          0   \n7        1150            WN        535  ...    7.0      7.0          0   \n8         650            WN         11  ...    6.0     19.0          0   \n9        1655            WN        810  ...    3.0      6.0          0   \n\n   CancellationCode  Diverted  CarrierDelay WeatherDelay NASDelay  \\\n0               NaN         0           NaN          NaN      NaN   \n1               NaN         0           NaN          NaN      NaN   \n2               NaN         0           NaN          NaN      NaN   \n3               NaN         0           NaN          NaN      NaN   \n4               NaN         0           2.0          0.0      0.0   \n5               NaN         0           NaN          NaN      NaN   \n6               NaN         0          10.0          0.0      0.0   \n7               NaN         0           NaN          NaN      NaN   \n8               NaN         0           NaN          NaN      NaN   \n9               NaN         0           NaN          NaN      NaN   \n\n   SecurityDelay  LateAircraftDelay  \n0            NaN                NaN  \n1            NaN                NaN  \n2            NaN                NaN  \n3            NaN                NaN  \n4            0.0               32.0  \n5            NaN                NaN  \n6            0.0               47.0  \n7            NaN                NaN  \n8            NaN                NaN  \n9            NaN                NaN  \n\n[10 rows x 29 columns]",
      "text/html": "<div>\n<style scoped>\n    .dataframe tbody tr th:only-of-type {\n        vertical-align: middle;\n    }\n\n    .dataframe tbody tr th {\n        vertical-align: top;\n    }\n\n    .dataframe thead th {\n        text-align: right;\n    }\n</style>\n<table border=\"1\" class=\"dataframe\">\n  <thead>\n    <tr style=\"text-align: right;\">\n      <th></th>\n      <th>Year</th>\n      <th>Month</th>\n      <th>DayofMonth</th>\n      <th>DayOfWeek</th>\n      <th>DepTime</th>\n      <th>CRSDepTime</th>\n      <th>ArrTime</th>\n      <th>CRSArrTime</th>\n      <th>UniqueCarrier</th>\n      <th>FlightNum</th>\n      <th>...</th>\n      <th>TaxiIn</th>\n      <th>TaxiOut</th>\n      <th>Cancelled</th>\n      <th>CancellationCode</th>\n      <th>Diverted</th>\n      <th>CarrierDelay</th>\n      <th>WeatherDelay</th>\n      <th>NASDelay</th>\n      <th>SecurityDelay</th>\n      <th>LateAircraftDelay</th>\n    </tr>\n  </thead>\n  <tbody>\n    <tr>\n      <th>0</th>\n      <td>2008</td>\n      <td>1</td>\n      <td>3</td>\n      <td>4</td>\n      <td>2003.0</td>\n      <td>1955</td>\n      <td>2211.0</td>\n      <td>2225</td>\n      <td>WN</td>\n      <td>335</td>\n      <td>...</td>\n      <td>4.0</td>\n      <td>8.0</td>\n      <td>0</td>\n      <td>NaN</td>\n      <td>0</td>\n      <td>NaN</td>\n      <td>NaN</td>\n      <td>NaN</td>\n      <td>NaN</td>\n      <td>NaN</td>\n    </tr>\n    <tr>\n      <th>1</th>\n      <td>2008</td>\n      <td>1</td>\n      <td>3</td>\n      <td>4</td>\n      <td>754.0</td>\n      <td>735</td>\n      <td>1002.0</td>\n      <td>1000</td>\n      <td>WN</td>\n      <td>3231</td>\n      <td>...</td>\n      <td>5.0</td>\n      <td>10.0</td>\n      <td>0</td>\n      <td>NaN</td>\n      <td>0</td>\n      <td>NaN</td>\n      <td>NaN</td>\n      <td>NaN</td>\n      <td>NaN</td>\n      <td>NaN</td>\n    </tr>\n    <tr>\n      <th>2</th>\n      <td>2008</td>\n      <td>1</td>\n      <td>3</td>\n      <td>4</td>\n      <td>628.0</td>\n      <td>620</td>\n      <td>804.0</td>\n      <td>750</td>\n      <td>WN</td>\n      <td>448</td>\n      <td>...</td>\n      <td>3.0</td>\n      <td>17.0</td>\n      <td>0</td>\n      <td>NaN</td>\n      <td>0</td>\n      <td>NaN</td>\n      <td>NaN</td>\n      <td>NaN</td>\n      <td>NaN</td>\n      <td>NaN</td>\n    </tr>\n    <tr>\n      <th>3</th>\n      <td>2008</td>\n      <td>1</td>\n      <td>3</td>\n      <td>4</td>\n      <td>926.0</td>\n      <td>930</td>\n      <td>1054.0</td>\n      <td>1100</td>\n      <td>WN</td>\n      <td>1746</td>\n      <td>...</td>\n      <td>3.0</td>\n      <td>7.0</td>\n      <td>0</td>\n      <td>NaN</td>\n      <td>0</td>\n      <td>NaN</td>\n      <td>NaN</td>\n      <td>NaN</td>\n      <td>NaN</td>\n      <td>NaN</td>\n    </tr>\n    <tr>\n      <th>4</th>\n      <td>2008</td>\n      <td>1</td>\n      <td>3</td>\n      <td>4</td>\n      <td>1829.0</td>\n      <td>1755</td>\n      <td>1959.0</td>\n      <td>1925</td>\n      <td>WN</td>\n      <td>3920</td>\n      <td>...</td>\n      <td>3.0</td>\n      <td>10.0</td>\n      <td>0</td>\n      <td>NaN</td>\n      <td>0</td>\n      <td>2.0</td>\n      <td>0.0</td>\n      <td>0.0</td>\n      <td>0.0</td>\n      <td>32.0</td>\n    </tr>\n    <tr>\n      <th>5</th>\n      <td>2008</td>\n      <td>1</td>\n      <td>3</td>\n      <td>4</td>\n      <td>1940.0</td>\n      <td>1915</td>\n      <td>2121.0</td>\n      <td>2110</td>\n      <td>WN</td>\n      <td>378</td>\n      <td>...</td>\n      <td>4.0</td>\n      <td>10.0</td>\n      <td>0</td>\n      <td>NaN</td>\n      <td>0</td>\n      <td>NaN</td>\n      <td>NaN</td>\n      <td>NaN</td>\n      <td>NaN</td>\n      <td>NaN</td>\n    </tr>\n    <tr>\n      <th>6</th>\n      <td>2008</td>\n      <td>1</td>\n      <td>3</td>\n      <td>4</td>\n      <td>1937.0</td>\n      <td>1830</td>\n      <td>2037.0</td>\n      <td>1940</td>\n      <td>WN</td>\n      <td>509</td>\n      <td>...</td>\n      <td>3.0</td>\n      <td>7.0</td>\n      <td>0</td>\n      <td>NaN</td>\n      <td>0</td>\n      <td>10.0</td>\n      <td>0.0</td>\n      <td>0.0</td>\n      <td>0.0</td>\n      <td>47.0</td>\n    </tr>\n    <tr>\n      <th>7</th>\n      <td>2008</td>\n      <td>1</td>\n      <td>3</td>\n      <td>4</td>\n      <td>1039.0</td>\n      <td>1040</td>\n      <td>1132.0</td>\n      <td>1150</td>\n      <td>WN</td>\n      <td>535</td>\n      <td>...</td>\n      <td>7.0</td>\n      <td>7.0</td>\n      <td>0</td>\n      <td>NaN</td>\n      <td>0</td>\n      <td>NaN</td>\n      <td>NaN</td>\n      <td>NaN</td>\n      <td>NaN</td>\n      <td>NaN</td>\n    </tr>\n    <tr>\n      <th>8</th>\n      <td>2008</td>\n      <td>1</td>\n      <td>3</td>\n      <td>4</td>\n      <td>617.0</td>\n      <td>615</td>\n      <td>652.0</td>\n      <td>650</td>\n      <td>WN</td>\n      <td>11</td>\n      <td>...</td>\n      <td>6.0</td>\n      <td>19.0</td>\n      <td>0</td>\n      <td>NaN</td>\n      <td>0</td>\n      <td>NaN</td>\n      <td>NaN</td>\n      <td>NaN</td>\n      <td>NaN</td>\n      <td>NaN</td>\n    </tr>\n    <tr>\n      <th>9</th>\n      <td>2008</td>\n      <td>1</td>\n      <td>3</td>\n      <td>4</td>\n      <td>1620.0</td>\n      <td>1620</td>\n      <td>1639.0</td>\n      <td>1655</td>\n      <td>WN</td>\n      <td>810</td>\n      <td>...</td>\n      <td>3.0</td>\n      <td>6.0</td>\n      <td>0</td>\n      <td>NaN</td>\n      <td>0</td>\n      <td>NaN</td>\n      <td>NaN</td>\n      <td>NaN</td>\n      <td>NaN</td>\n      <td>NaN</td>\n    </tr>\n  </tbody>\n</table>\n<p>10 rows × 29 columns</p>\n</div>"
     },
     "metadata": {},
     "execution_count": 10
    }
   ],
   "source": [
    "df[0:10] #Ver datos de la fila 0 a la fila 100"
   ]
  },
  {
   "cell_type": "code",
   "execution_count": 11,
   "metadata": {},
   "outputs": [
    {
     "output_type": "execute_result",
     "data": {
      "text/plain": "   Year  Month  DayofMonth  DayOfWeek  DepTime  CRSDepTime  ArrTime  \\\n0  2008      1           3          4   2003.0        1955   2211.0   \n1  2008      1           3          4    754.0         735   1002.0   \n2  2008      1           3          4    628.0         620    804.0   \n3  2008      1           3          4    926.0         930   1054.0   \n4  2008      1           3          4   1829.0        1755   1959.0   \n\n   CRSArrTime UniqueCarrier  FlightNum  ... TaxiIn  TaxiOut  Cancelled  \\\n0        2225            WN        335  ...    4.0      8.0          0   \n1        1000            WN       3231  ...    5.0     10.0          0   \n2         750            WN        448  ...    3.0     17.0          0   \n3        1100            WN       1746  ...    3.0      7.0          0   \n4        1925            WN       3920  ...    3.0     10.0          0   \n\n   CancellationCode  Diverted  CarrierDelay WeatherDelay NASDelay  \\\n0               NaN         0           NaN          NaN      NaN   \n1               NaN         0           NaN          NaN      NaN   \n2               NaN         0           NaN          NaN      NaN   \n3               NaN         0           NaN          NaN      NaN   \n4               NaN         0           2.0          0.0      0.0   \n\n   SecurityDelay  LateAircraftDelay  \n0            NaN                NaN  \n1            NaN                NaN  \n2            NaN                NaN  \n3            NaN                NaN  \n4            0.0               32.0  \n\n[5 rows x 29 columns]",
      "text/html": "<div>\n<style scoped>\n    .dataframe tbody tr th:only-of-type {\n        vertical-align: middle;\n    }\n\n    .dataframe tbody tr th {\n        vertical-align: top;\n    }\n\n    .dataframe thead th {\n        text-align: right;\n    }\n</style>\n<table border=\"1\" class=\"dataframe\">\n  <thead>\n    <tr style=\"text-align: right;\">\n      <th></th>\n      <th>Year</th>\n      <th>Month</th>\n      <th>DayofMonth</th>\n      <th>DayOfWeek</th>\n      <th>DepTime</th>\n      <th>CRSDepTime</th>\n      <th>ArrTime</th>\n      <th>CRSArrTime</th>\n      <th>UniqueCarrier</th>\n      <th>FlightNum</th>\n      <th>...</th>\n      <th>TaxiIn</th>\n      <th>TaxiOut</th>\n      <th>Cancelled</th>\n      <th>CancellationCode</th>\n      <th>Diverted</th>\n      <th>CarrierDelay</th>\n      <th>WeatherDelay</th>\n      <th>NASDelay</th>\n      <th>SecurityDelay</th>\n      <th>LateAircraftDelay</th>\n    </tr>\n  </thead>\n  <tbody>\n    <tr>\n      <th>0</th>\n      <td>2008</td>\n      <td>1</td>\n      <td>3</td>\n      <td>4</td>\n      <td>2003.0</td>\n      <td>1955</td>\n      <td>2211.0</td>\n      <td>2225</td>\n      <td>WN</td>\n      <td>335</td>\n      <td>...</td>\n      <td>4.0</td>\n      <td>8.0</td>\n      <td>0</td>\n      <td>NaN</td>\n      <td>0</td>\n      <td>NaN</td>\n      <td>NaN</td>\n      <td>NaN</td>\n      <td>NaN</td>\n      <td>NaN</td>\n    </tr>\n    <tr>\n      <th>1</th>\n      <td>2008</td>\n      <td>1</td>\n      <td>3</td>\n      <td>4</td>\n      <td>754.0</td>\n      <td>735</td>\n      <td>1002.0</td>\n      <td>1000</td>\n      <td>WN</td>\n      <td>3231</td>\n      <td>...</td>\n      <td>5.0</td>\n      <td>10.0</td>\n      <td>0</td>\n      <td>NaN</td>\n      <td>0</td>\n      <td>NaN</td>\n      <td>NaN</td>\n      <td>NaN</td>\n      <td>NaN</td>\n      <td>NaN</td>\n    </tr>\n    <tr>\n      <th>2</th>\n      <td>2008</td>\n      <td>1</td>\n      <td>3</td>\n      <td>4</td>\n      <td>628.0</td>\n      <td>620</td>\n      <td>804.0</td>\n      <td>750</td>\n      <td>WN</td>\n      <td>448</td>\n      <td>...</td>\n      <td>3.0</td>\n      <td>17.0</td>\n      <td>0</td>\n      <td>NaN</td>\n      <td>0</td>\n      <td>NaN</td>\n      <td>NaN</td>\n      <td>NaN</td>\n      <td>NaN</td>\n      <td>NaN</td>\n    </tr>\n    <tr>\n      <th>3</th>\n      <td>2008</td>\n      <td>1</td>\n      <td>3</td>\n      <td>4</td>\n      <td>926.0</td>\n      <td>930</td>\n      <td>1054.0</td>\n      <td>1100</td>\n      <td>WN</td>\n      <td>1746</td>\n      <td>...</td>\n      <td>3.0</td>\n      <td>7.0</td>\n      <td>0</td>\n      <td>NaN</td>\n      <td>0</td>\n      <td>NaN</td>\n      <td>NaN</td>\n      <td>NaN</td>\n      <td>NaN</td>\n      <td>NaN</td>\n    </tr>\n    <tr>\n      <th>4</th>\n      <td>2008</td>\n      <td>1</td>\n      <td>3</td>\n      <td>4</td>\n      <td>1829.0</td>\n      <td>1755</td>\n      <td>1959.0</td>\n      <td>1925</td>\n      <td>WN</td>\n      <td>3920</td>\n      <td>...</td>\n      <td>3.0</td>\n      <td>10.0</td>\n      <td>0</td>\n      <td>NaN</td>\n      <td>0</td>\n      <td>2.0</td>\n      <td>0.0</td>\n      <td>0.0</td>\n      <td>0.0</td>\n      <td>32.0</td>\n    </tr>\n  </tbody>\n</table>\n<p>5 rows × 29 columns</p>\n</div>"
     },
     "metadata": {},
     "execution_count": 11
    }
   ],
   "source": [
    "df[df[\"ArrDelay\"] <= 60].head() #Muestra vuelos retrasados menos de 60 secs"
   ]
  },
  {
   "cell_type": "code",
   "execution_count": 12,
   "metadata": {},
   "outputs": [
    {
     "output_type": "execute_result",
     "data": {
      "text/plain": "     Year  Month  DayofMonth  DayOfWeek  DepTime  CRSDepTime  ArrTime  \\\n178  2008      1           3          4      NaN         700      NaN   \n373  2008      1           3          4      NaN        1100      NaN   \n399  2008      1           3          4      NaN         905      NaN   \n401  2008      1           3          4      NaN        1620      NaN   \n415  2008      1           3          4      NaN        1930      NaN   \n\n     CRSArrTime UniqueCarrier  FlightNum  ... TaxiIn  TaxiOut  Cancelled  \\\n178         830            WN        126  ...    NaN      NaN          1   \n373        1215            WN       1146  ...    NaN      NaN          1   \n399        1025            WN        469  ...    NaN      NaN          1   \n401        1740            WN        618  ...    NaN      NaN          1   \n415        2035            WN       2528  ...    NaN      NaN          1   \n\n     CancellationCode  Diverted  CarrierDelay WeatherDelay NASDelay  \\\n178                 A         0           NaN          NaN      NaN   \n373                 A         0           NaN          NaN      NaN   \n399                 A         0           NaN          NaN      NaN   \n401                 C         0           NaN          NaN      NaN   \n415                 A         0           NaN          NaN      NaN   \n\n     SecurityDelay  LateAircraftDelay  \n178            NaN                NaN  \n373            NaN                NaN  \n399            NaN                NaN  \n401            NaN                NaN  \n415            NaN                NaN  \n\n[5 rows x 29 columns]",
      "text/html": "<div>\n<style scoped>\n    .dataframe tbody tr th:only-of-type {\n        vertical-align: middle;\n    }\n\n    .dataframe tbody tr th {\n        vertical-align: top;\n    }\n\n    .dataframe thead th {\n        text-align: right;\n    }\n</style>\n<table border=\"1\" class=\"dataframe\">\n  <thead>\n    <tr style=\"text-align: right;\">\n      <th></th>\n      <th>Year</th>\n      <th>Month</th>\n      <th>DayofMonth</th>\n      <th>DayOfWeek</th>\n      <th>DepTime</th>\n      <th>CRSDepTime</th>\n      <th>ArrTime</th>\n      <th>CRSArrTime</th>\n      <th>UniqueCarrier</th>\n      <th>FlightNum</th>\n      <th>...</th>\n      <th>TaxiIn</th>\n      <th>TaxiOut</th>\n      <th>Cancelled</th>\n      <th>CancellationCode</th>\n      <th>Diverted</th>\n      <th>CarrierDelay</th>\n      <th>WeatherDelay</th>\n      <th>NASDelay</th>\n      <th>SecurityDelay</th>\n      <th>LateAircraftDelay</th>\n    </tr>\n  </thead>\n  <tbody>\n    <tr>\n      <th>178</th>\n      <td>2008</td>\n      <td>1</td>\n      <td>3</td>\n      <td>4</td>\n      <td>NaN</td>\n      <td>700</td>\n      <td>NaN</td>\n      <td>830</td>\n      <td>WN</td>\n      <td>126</td>\n      <td>...</td>\n      <td>NaN</td>\n      <td>NaN</td>\n      <td>1</td>\n      <td>A</td>\n      <td>0</td>\n      <td>NaN</td>\n      <td>NaN</td>\n      <td>NaN</td>\n      <td>NaN</td>\n      <td>NaN</td>\n    </tr>\n    <tr>\n      <th>373</th>\n      <td>2008</td>\n      <td>1</td>\n      <td>3</td>\n      <td>4</td>\n      <td>NaN</td>\n      <td>1100</td>\n      <td>NaN</td>\n      <td>1215</td>\n      <td>WN</td>\n      <td>1146</td>\n      <td>...</td>\n      <td>NaN</td>\n      <td>NaN</td>\n      <td>1</td>\n      <td>A</td>\n      <td>0</td>\n      <td>NaN</td>\n      <td>NaN</td>\n      <td>NaN</td>\n      <td>NaN</td>\n      <td>NaN</td>\n    </tr>\n    <tr>\n      <th>399</th>\n      <td>2008</td>\n      <td>1</td>\n      <td>3</td>\n      <td>4</td>\n      <td>NaN</td>\n      <td>905</td>\n      <td>NaN</td>\n      <td>1025</td>\n      <td>WN</td>\n      <td>469</td>\n      <td>...</td>\n      <td>NaN</td>\n      <td>NaN</td>\n      <td>1</td>\n      <td>A</td>\n      <td>0</td>\n      <td>NaN</td>\n      <td>NaN</td>\n      <td>NaN</td>\n      <td>NaN</td>\n      <td>NaN</td>\n    </tr>\n    <tr>\n      <th>401</th>\n      <td>2008</td>\n      <td>1</td>\n      <td>3</td>\n      <td>4</td>\n      <td>NaN</td>\n      <td>1620</td>\n      <td>NaN</td>\n      <td>1740</td>\n      <td>WN</td>\n      <td>618</td>\n      <td>...</td>\n      <td>NaN</td>\n      <td>NaN</td>\n      <td>1</td>\n      <td>C</td>\n      <td>0</td>\n      <td>NaN</td>\n      <td>NaN</td>\n      <td>NaN</td>\n      <td>NaN</td>\n      <td>NaN</td>\n    </tr>\n    <tr>\n      <th>415</th>\n      <td>2008</td>\n      <td>1</td>\n      <td>3</td>\n      <td>4</td>\n      <td>NaN</td>\n      <td>1930</td>\n      <td>NaN</td>\n      <td>2035</td>\n      <td>WN</td>\n      <td>2528</td>\n      <td>...</td>\n      <td>NaN</td>\n      <td>NaN</td>\n      <td>1</td>\n      <td>A</td>\n      <td>0</td>\n      <td>NaN</td>\n      <td>NaN</td>\n      <td>NaN</td>\n      <td>NaN</td>\n      <td>NaN</td>\n    </tr>\n  </tbody>\n</table>\n<p>5 rows × 29 columns</p>\n</div>"
     },
     "metadata": {},
     "execution_count": 12
    }
   ],
   "source": [
    "df[pd.isna(df[\"ArrDelay\"])].head() #Muestra las 5 primeras columnas donde no hay datos en la columna ArrDelay"
   ]
  },
  {
   "cell_type": "code",
   "execution_count": 13,
   "metadata": {},
   "outputs": [
    {
     "output_type": "execute_result",
     "data": {
      "text/plain": "1"
     },
     "metadata": {},
     "execution_count": 13
    }
   ],
   "source": [
    "len([pd.isna(df[\"ArrDelay\"])])"
   ]
  },
  {
   "source": [
    "TRANSFORMACIONES DE LA BASE DE DATOS"
   ],
   "cell_type": "markdown",
   "metadata": {}
  },
  {
   "cell_type": "code",
   "execution_count": 14,
   "metadata": {},
   "outputs": [],
   "source": [
    "#Crear nueva columna\n",
    "df[\"HoursDelay\"] = round(df[\"ArrDelay\"] / 60)"
   ]
  },
  {
   "cell_type": "code",
   "execution_count": 15,
   "metadata": {},
   "outputs": [
    {
     "output_type": "execute_result",
     "data": {
      "text/plain": "0   -0.0\n1    0.0\n2    0.0\n3   -0.0\n4    1.0\nName: HoursDelay, dtype: float64"
     },
     "metadata": {},
     "execution_count": 15
    }
   ],
   "source": [
    "df[\"HoursDelay\"].head()"
   ]
  },
  {
   "cell_type": "code",
   "execution_count": 16,
   "metadata": {},
   "outputs": [],
   "source": [
    "del(df[\"HoursDelay\"]) #Borra una columna de la base de datos"
   ]
  },
  {
   "cell_type": "code",
   "execution_count": 17,
   "metadata": {},
   "outputs": [],
   "source": [
    "df = df.drop([\"Diverted\", \"Cancelled\", \"Year\"], axis=1) #Borra varias columnas"
   ]
  },
  {
   "cell_type": "code",
   "execution_count": 18,
   "metadata": {},
   "outputs": [
    {
     "output_type": "execute_result",
     "data": {
      "text/plain": "       Month  DayofMonth  DayOfWeek  DepTime  CRSDepTime  ArrTime  CRSArrTime  \\\n1          1           3          4    754.0         735   1002.0        1000   \n2          1           3          4    628.0         620    804.0         750   \n3          1           3          4    926.0         930   1054.0        1100   \n4          1           3          4   1829.0        1755   1959.0        1925   \n5          1           3          4   1940.0        1915   2121.0        2110   \n...      ...         ...        ...      ...         ...      ...         ...   \n99995      1          25          5   2204.0        1935    106.0        2257   \n99996      1          26          6   1933.0        1935   2234.0        2257   \n99997      1          27          7   2047.0        1935   2400.0        2257   \n99998      1          28          1   1956.0        1935   2308.0        2257   \n99999      1          29          2   1938.0        1935   2308.0        2257   \n\n      UniqueCarrier  FlightNum TailNum  ...  Dest  Distance  TaxiIn  TaxiOut  \\\n1                WN       3231  N772SW  ...   TPA       810     5.0     10.0   \n2                WN        448  N428WN  ...   BWI       515     3.0     17.0   \n3                WN       1746  N612SW  ...   BWI       515     3.0      7.0   \n4                WN       3920  N464WN  ...   BWI       515     3.0     10.0   \n5                WN        378  N726SW  ...   JAX       688     4.0     10.0   \n...             ...        ...     ...  ...   ...       ...     ...      ...   \n99995            XE       7676  N11181  ...   OKC       866     4.0     17.0   \n99996            XE       7676  N16170  ...   OKC       866     4.0     16.0   \n99997            XE       7676  N12167  ...   OKC       866     6.0     18.0   \n99998            XE       7676  N16170  ...   OKC       866     5.0     25.0   \n99999            XE       7676  N11176  ...   OKC       866     5.0     41.0   \n\n       CancellationCode CarrierDelay WeatherDelay  NASDelay  SecurityDelay  \\\n1                   NaN          NaN          NaN       NaN            NaN   \n2                   NaN          NaN          NaN       NaN            NaN   \n3                   NaN          NaN          NaN       NaN            NaN   \n4                   NaN          2.0          0.0       0.0            0.0   \n5                   NaN          NaN          NaN       NaN            NaN   \n...                 ...          ...          ...       ...            ...   \n99995               NaN          0.0          0.0       0.0            0.0   \n99996               NaN          NaN          NaN       NaN            NaN   \n99997               NaN         23.0          0.0       0.0            0.0   \n99998               NaN          NaN          NaN       NaN            NaN   \n99999               NaN          NaN          NaN       NaN            NaN   \n\n       LateAircraftDelay  \n1                    NaN  \n2                    NaN  \n3                    NaN  \n4                   32.0  \n5                    NaN  \n...                  ...  \n99995              129.0  \n99996                NaN  \n99997               40.0  \n99998                NaN  \n99999                NaN  \n\n[99999 rows x 26 columns]",
      "text/html": "<div>\n<style scoped>\n    .dataframe tbody tr th:only-of-type {\n        vertical-align: middle;\n    }\n\n    .dataframe tbody tr th {\n        vertical-align: top;\n    }\n\n    .dataframe thead th {\n        text-align: right;\n    }\n</style>\n<table border=\"1\" class=\"dataframe\">\n  <thead>\n    <tr style=\"text-align: right;\">\n      <th></th>\n      <th>Month</th>\n      <th>DayofMonth</th>\n      <th>DayOfWeek</th>\n      <th>DepTime</th>\n      <th>CRSDepTime</th>\n      <th>ArrTime</th>\n      <th>CRSArrTime</th>\n      <th>UniqueCarrier</th>\n      <th>FlightNum</th>\n      <th>TailNum</th>\n      <th>...</th>\n      <th>Dest</th>\n      <th>Distance</th>\n      <th>TaxiIn</th>\n      <th>TaxiOut</th>\n      <th>CancellationCode</th>\n      <th>CarrierDelay</th>\n      <th>WeatherDelay</th>\n      <th>NASDelay</th>\n      <th>SecurityDelay</th>\n      <th>LateAircraftDelay</th>\n    </tr>\n  </thead>\n  <tbody>\n    <tr>\n      <th>1</th>\n      <td>1</td>\n      <td>3</td>\n      <td>4</td>\n      <td>754.0</td>\n      <td>735</td>\n      <td>1002.0</td>\n      <td>1000</td>\n      <td>WN</td>\n      <td>3231</td>\n      <td>N772SW</td>\n      <td>...</td>\n      <td>TPA</td>\n      <td>810</td>\n      <td>5.0</td>\n      <td>10.0</td>\n      <td>NaN</td>\n      <td>NaN</td>\n      <td>NaN</td>\n      <td>NaN</td>\n      <td>NaN</td>\n      <td>NaN</td>\n    </tr>\n    <tr>\n      <th>2</th>\n      <td>1</td>\n      <td>3</td>\n      <td>4</td>\n      <td>628.0</td>\n      <td>620</td>\n      <td>804.0</td>\n      <td>750</td>\n      <td>WN</td>\n      <td>448</td>\n      <td>N428WN</td>\n      <td>...</td>\n      <td>BWI</td>\n      <td>515</td>\n      <td>3.0</td>\n      <td>17.0</td>\n      <td>NaN</td>\n      <td>NaN</td>\n      <td>NaN</td>\n      <td>NaN</td>\n      <td>NaN</td>\n      <td>NaN</td>\n    </tr>\n    <tr>\n      <th>3</th>\n      <td>1</td>\n      <td>3</td>\n      <td>4</td>\n      <td>926.0</td>\n      <td>930</td>\n      <td>1054.0</td>\n      <td>1100</td>\n      <td>WN</td>\n      <td>1746</td>\n      <td>N612SW</td>\n      <td>...</td>\n      <td>BWI</td>\n      <td>515</td>\n      <td>3.0</td>\n      <td>7.0</td>\n      <td>NaN</td>\n      <td>NaN</td>\n      <td>NaN</td>\n      <td>NaN</td>\n      <td>NaN</td>\n      <td>NaN</td>\n    </tr>\n    <tr>\n      <th>4</th>\n      <td>1</td>\n      <td>3</td>\n      <td>4</td>\n      <td>1829.0</td>\n      <td>1755</td>\n      <td>1959.0</td>\n      <td>1925</td>\n      <td>WN</td>\n      <td>3920</td>\n      <td>N464WN</td>\n      <td>...</td>\n      <td>BWI</td>\n      <td>515</td>\n      <td>3.0</td>\n      <td>10.0</td>\n      <td>NaN</td>\n      <td>2.0</td>\n      <td>0.0</td>\n      <td>0.0</td>\n      <td>0.0</td>\n      <td>32.0</td>\n    </tr>\n    <tr>\n      <th>5</th>\n      <td>1</td>\n      <td>3</td>\n      <td>4</td>\n      <td>1940.0</td>\n      <td>1915</td>\n      <td>2121.0</td>\n      <td>2110</td>\n      <td>WN</td>\n      <td>378</td>\n      <td>N726SW</td>\n      <td>...</td>\n      <td>JAX</td>\n      <td>688</td>\n      <td>4.0</td>\n      <td>10.0</td>\n      <td>NaN</td>\n      <td>NaN</td>\n      <td>NaN</td>\n      <td>NaN</td>\n      <td>NaN</td>\n      <td>NaN</td>\n    </tr>\n    <tr>\n      <th>...</th>\n      <td>...</td>\n      <td>...</td>\n      <td>...</td>\n      <td>...</td>\n      <td>...</td>\n      <td>...</td>\n      <td>...</td>\n      <td>...</td>\n      <td>...</td>\n      <td>...</td>\n      <td>...</td>\n      <td>...</td>\n      <td>...</td>\n      <td>...</td>\n      <td>...</td>\n      <td>...</td>\n      <td>...</td>\n      <td>...</td>\n      <td>...</td>\n      <td>...</td>\n      <td>...</td>\n    </tr>\n    <tr>\n      <th>99995</th>\n      <td>1</td>\n      <td>25</td>\n      <td>5</td>\n      <td>2204.0</td>\n      <td>1935</td>\n      <td>106.0</td>\n      <td>2257</td>\n      <td>XE</td>\n      <td>7676</td>\n      <td>N11181</td>\n      <td>...</td>\n      <td>OKC</td>\n      <td>866</td>\n      <td>4.0</td>\n      <td>17.0</td>\n      <td>NaN</td>\n      <td>0.0</td>\n      <td>0.0</td>\n      <td>0.0</td>\n      <td>0.0</td>\n      <td>129.0</td>\n    </tr>\n    <tr>\n      <th>99996</th>\n      <td>1</td>\n      <td>26</td>\n      <td>6</td>\n      <td>1933.0</td>\n      <td>1935</td>\n      <td>2234.0</td>\n      <td>2257</td>\n      <td>XE</td>\n      <td>7676</td>\n      <td>N16170</td>\n      <td>...</td>\n      <td>OKC</td>\n      <td>866</td>\n      <td>4.0</td>\n      <td>16.0</td>\n      <td>NaN</td>\n      <td>NaN</td>\n      <td>NaN</td>\n      <td>NaN</td>\n      <td>NaN</td>\n      <td>NaN</td>\n    </tr>\n    <tr>\n      <th>99997</th>\n      <td>1</td>\n      <td>27</td>\n      <td>7</td>\n      <td>2047.0</td>\n      <td>1935</td>\n      <td>2400.0</td>\n      <td>2257</td>\n      <td>XE</td>\n      <td>7676</td>\n      <td>N12167</td>\n      <td>...</td>\n      <td>OKC</td>\n      <td>866</td>\n      <td>6.0</td>\n      <td>18.0</td>\n      <td>NaN</td>\n      <td>23.0</td>\n      <td>0.0</td>\n      <td>0.0</td>\n      <td>0.0</td>\n      <td>40.0</td>\n    </tr>\n    <tr>\n      <th>99998</th>\n      <td>1</td>\n      <td>28</td>\n      <td>1</td>\n      <td>1956.0</td>\n      <td>1935</td>\n      <td>2308.0</td>\n      <td>2257</td>\n      <td>XE</td>\n      <td>7676</td>\n      <td>N16170</td>\n      <td>...</td>\n      <td>OKC</td>\n      <td>866</td>\n      <td>5.0</td>\n      <td>25.0</td>\n      <td>NaN</td>\n      <td>NaN</td>\n      <td>NaN</td>\n      <td>NaN</td>\n      <td>NaN</td>\n      <td>NaN</td>\n    </tr>\n    <tr>\n      <th>99999</th>\n      <td>1</td>\n      <td>29</td>\n      <td>2</td>\n      <td>1938.0</td>\n      <td>1935</td>\n      <td>2308.0</td>\n      <td>2257</td>\n      <td>XE</td>\n      <td>7676</td>\n      <td>N11176</td>\n      <td>...</td>\n      <td>OKC</td>\n      <td>866</td>\n      <td>5.0</td>\n      <td>41.0</td>\n      <td>NaN</td>\n      <td>NaN</td>\n      <td>NaN</td>\n      <td>NaN</td>\n      <td>NaN</td>\n      <td>NaN</td>\n    </tr>\n  </tbody>\n</table>\n<p>99999 rows × 26 columns</p>\n</div>"
     },
     "metadata": {},
     "execution_count": 18
    }
   ],
   "source": [
    "df.drop(0) #Elimina la fila 0"
   ]
  },
  {
   "source": [
    "GROUPBY"
   ],
   "cell_type": "markdown",
   "metadata": {}
  },
  {
   "cell_type": "code",
   "execution_count": 19,
   "metadata": {},
   "outputs": [
    {
     "output_type": "execute_result",
     "data": {
      "text/plain": "DayOfWeek\n1    431.0\n2    360.0\n3    422.0\n4    486.0\n5    364.0\n6    500.0\n7    367.0\nName: ArrDelay, dtype: float64"
     },
     "metadata": {},
     "execution_count": 19
    }
   ],
   "source": [
    "df.groupby(by = \"DayOfWeek\")[\"ArrDelay\"].max() #Agrupa por cada dia de la semana un valor de los retrasos de los vuelos el maximo"
   ]
  },
  {
   "cell_type": "code",
   "execution_count": 20,
   "metadata": {},
   "outputs": [
    {
     "output_type": "execute_result",
     "data": {
      "text/plain": "             count       mean        std   min   25%  50%   75%    max\nDayOfWeek                                                             \n1          14349.0   4.568960  29.047008 -56.0  -9.0 -3.0   9.0  431.0\n2          14471.0   0.446479  21.617710 -48.0 -10.0 -4.0   5.0  360.0\n3          14504.0  -1.646511  18.464538 -48.0 -11.0 -5.0   3.0  422.0\n4          16774.0  13.387922  38.490537 -45.0  -7.0  2.0  19.0  486.0\n5          14350.0   7.684948  28.156892 -52.0  -7.0  0.0  14.0  364.0\n6          11172.0   2.069280  27.866895 -49.0 -11.0 -4.0   6.0  500.0\n7          13078.0  12.190625  41.925311 -57.0  -9.0  0.0  16.0  367.0",
      "text/html": "<div>\n<style scoped>\n    .dataframe tbody tr th:only-of-type {\n        vertical-align: middle;\n    }\n\n    .dataframe tbody tr th {\n        vertical-align: top;\n    }\n\n    .dataframe thead th {\n        text-align: right;\n    }\n</style>\n<table border=\"1\" class=\"dataframe\">\n  <thead>\n    <tr style=\"text-align: right;\">\n      <th></th>\n      <th>count</th>\n      <th>mean</th>\n      <th>std</th>\n      <th>min</th>\n      <th>25%</th>\n      <th>50%</th>\n      <th>75%</th>\n      <th>max</th>\n    </tr>\n    <tr>\n      <th>DayOfWeek</th>\n      <th></th>\n      <th></th>\n      <th></th>\n      <th></th>\n      <th></th>\n      <th></th>\n      <th></th>\n      <th></th>\n    </tr>\n  </thead>\n  <tbody>\n    <tr>\n      <th>1</th>\n      <td>14349.0</td>\n      <td>4.568960</td>\n      <td>29.047008</td>\n      <td>-56.0</td>\n      <td>-9.0</td>\n      <td>-3.0</td>\n      <td>9.0</td>\n      <td>431.0</td>\n    </tr>\n    <tr>\n      <th>2</th>\n      <td>14471.0</td>\n      <td>0.446479</td>\n      <td>21.617710</td>\n      <td>-48.0</td>\n      <td>-10.0</td>\n      <td>-4.0</td>\n      <td>5.0</td>\n      <td>360.0</td>\n    </tr>\n    <tr>\n      <th>3</th>\n      <td>14504.0</td>\n      <td>-1.646511</td>\n      <td>18.464538</td>\n      <td>-48.0</td>\n      <td>-11.0</td>\n      <td>-5.0</td>\n      <td>3.0</td>\n      <td>422.0</td>\n    </tr>\n    <tr>\n      <th>4</th>\n      <td>16774.0</td>\n      <td>13.387922</td>\n      <td>38.490537</td>\n      <td>-45.0</td>\n      <td>-7.0</td>\n      <td>2.0</td>\n      <td>19.0</td>\n      <td>486.0</td>\n    </tr>\n    <tr>\n      <th>5</th>\n      <td>14350.0</td>\n      <td>7.684948</td>\n      <td>28.156892</td>\n      <td>-52.0</td>\n      <td>-7.0</td>\n      <td>0.0</td>\n      <td>14.0</td>\n      <td>364.0</td>\n    </tr>\n    <tr>\n      <th>6</th>\n      <td>11172.0</td>\n      <td>2.069280</td>\n      <td>27.866895</td>\n      <td>-49.0</td>\n      <td>-11.0</td>\n      <td>-4.0</td>\n      <td>6.0</td>\n      <td>500.0</td>\n    </tr>\n    <tr>\n      <th>7</th>\n      <td>13078.0</td>\n      <td>12.190625</td>\n      <td>41.925311</td>\n      <td>-57.0</td>\n      <td>-9.0</td>\n      <td>0.0</td>\n      <td>16.0</td>\n      <td>367.0</td>\n    </tr>\n  </tbody>\n</table>\n</div>"
     },
     "metadata": {},
     "execution_count": 20
    }
   ],
   "source": [
    "df.groupby(by = \"DayOfWeek\")[\"ArrDelay\"].describe()"
   ]
  },
  {
   "cell_type": "code",
   "execution_count": 21,
   "metadata": {},
   "outputs": [
    {
     "output_type": "execute_result",
     "data": {
      "text/plain": "            ArrDelay   DepDelay\nDayOfWeek                      \n1           4.568960   9.141704\n2           0.446479   5.192300\n3          -1.646511   3.680816\n4          13.387922  16.511031\n5           7.684948  12.067975\n6           2.069280   8.080861\n7          12.190625  17.135919",
      "text/html": "<div>\n<style scoped>\n    .dataframe tbody tr th:only-of-type {\n        vertical-align: middle;\n    }\n\n    .dataframe tbody tr th {\n        vertical-align: top;\n    }\n\n    .dataframe thead th {\n        text-align: right;\n    }\n</style>\n<table border=\"1\" class=\"dataframe\">\n  <thead>\n    <tr style=\"text-align: right;\">\n      <th></th>\n      <th>ArrDelay</th>\n      <th>DepDelay</th>\n    </tr>\n    <tr>\n      <th>DayOfWeek</th>\n      <th></th>\n      <th></th>\n    </tr>\n  </thead>\n  <tbody>\n    <tr>\n      <th>1</th>\n      <td>4.568960</td>\n      <td>9.141704</td>\n    </tr>\n    <tr>\n      <th>2</th>\n      <td>0.446479</td>\n      <td>5.192300</td>\n    </tr>\n    <tr>\n      <th>3</th>\n      <td>-1.646511</td>\n      <td>3.680816</td>\n    </tr>\n    <tr>\n      <th>4</th>\n      <td>13.387922</td>\n      <td>16.511031</td>\n    </tr>\n    <tr>\n      <th>5</th>\n      <td>7.684948</td>\n      <td>12.067975</td>\n    </tr>\n    <tr>\n      <th>6</th>\n      <td>2.069280</td>\n      <td>8.080861</td>\n    </tr>\n    <tr>\n      <th>7</th>\n      <td>12.190625</td>\n      <td>17.135919</td>\n    </tr>\n  </tbody>\n</table>\n</div>"
     },
     "metadata": {},
     "execution_count": 21
    }
   ],
   "source": [
    "df.groupby(by = \"DayOfWeek\")[\"ArrDelay\",\"DepDelay\"].mean()"
   ]
  },
  {
   "cell_type": "code",
   "execution_count": 22,
   "metadata": {},
   "outputs": [
    {
     "output_type": "execute_result",
     "data": {
      "text/plain": "DayOfWeek\n1    487.0\n2    408.0\n3    470.0\n4    531.0\n5    416.0\n6    549.0\n7    424.0\nName: ArrDelay, dtype: float64"
     },
     "metadata": {},
     "execution_count": 22
    }
   ],
   "source": [
    "df.groupby(by = \"DayOfWeek\")[\"ArrDelay\"].max() - df.groupby(by = \"DayOfWeek\")[\"ArrDelay\"].min() #Rango de valores de cada dia de la semana"
   ]
  },
  {
   "cell_type": "code",
   "execution_count": 23,
   "metadata": {},
   "outputs": [],
   "source": [
    "dfATLHOU = df[df.Origin.isin([\"ATL\",\"HOU\"])] #Cree un nuevo df "
   ]
  },
  {
   "cell_type": "code",
   "execution_count": 24,
   "metadata": {},
   "outputs": [
    {
     "output_type": "execute_result",
     "data": {
      "text/plain": "DayOfWeek  Origin\n1          HOU        1.767764\n2          HOU        1.624348\n3          HOU        3.026178\n4          HOU       21.047535\n5          HOU        6.853448\n6          HOU       -0.967172\n7          HOU        7.842629\nName: ArrDelay, dtype: float64"
     },
     "metadata": {},
     "execution_count": 24
    }
   ],
   "source": [
    "dfATLHOU.groupby(by = [\"DayOfWeek\", \"Origin\"])[\"ArrDelay\"].mean()"
   ]
  },
  {
   "source": [
    "TRATAR DUPLICADOS Y PERDIDOS"
   ],
   "cell_type": "markdown",
   "metadata": {}
  },
  {
   "cell_type": "code",
   "execution_count": 33,
   "metadata": {},
   "outputs": [],
   "source": [
    "df = pd.read_csv(\"base_datos_2008.csv\", nrows = 1e6) #Cargar un millon de datos"
   ]
  },
  {
   "cell_type": "code",
   "execution_count": 34,
   "metadata": {},
   "outputs": [],
   "source": [
    "dfduplicate = df.append(df) #Genera una base de datos con datos duplicados"
   ]
  },
  {
   "cell_type": "code",
   "execution_count": 35,
   "metadata": {},
   "outputs": [],
   "source": [
    "dfduplicate = dfduplicate.sample(frac=1)"
   ]
  },
  {
   "cell_type": "code",
   "execution_count": 36,
   "metadata": {},
   "outputs": [],
   "source": [
    "dfclean= dfduplicate.drop_duplicates() #Borra duplicados"
   ]
  },
  {
   "cell_type": "code",
   "execution_count": 38,
   "metadata": {},
   "outputs": [
    {
     "output_type": "execute_result",
     "data": {
      "text/plain": "False"
     },
     "metadata": {},
     "execution_count": 38
    }
   ],
   "source": [
    "len(dfclean) == len(df)"
   ]
  },
  {
   "cell_type": "code",
   "execution_count": 37,
   "metadata": {},
   "outputs": [
    {
     "output_type": "execute_result",
     "data": {
      "text/plain": "999996"
     },
     "metadata": {},
     "execution_count": 37
    }
   ],
   "source": [
    "len(dfclean)"
   ]
  },
  {
   "cell_type": "code",
   "execution_count": 40,
   "metadata": {},
   "outputs": [
    {
     "output_type": "execute_result",
     "data": {
      "text/plain": "        Year  Month  DayofMonth  DayOfWeek  DepTime  CRSDepTime  ArrTime  \\\n865547  2008      2          15          5   1249.0        1256   1346.0   \n490162  2008      1          24          4   1832.0        1615   2001.0   \n411871  2008      1           5          6    740.0         740    935.0   \n767606  2008      2           2          6   1151.0         946   1311.0   \n152813  2008      1           4          5   1255.0        1300   1418.0   \n875413  2008      2          22          5   1443.0        1435   1927.0   \n616967  2008      2           6          3   1046.0        1035   1143.0   \n968117  2008      2          28          4   1807.0        1808   1858.0   \n21363   2008      1           9          3    907.0         825   1016.0   \n391203  2008      1          29          2   2040.0        2045   2135.0   \n749525  2008      2           3          7    953.0        1005   1234.0   \n147279  2008      1          26          6    600.0         600    652.0   \n761125  2008      2          23          6      NaN         835      NaN   \n150916  2008      1          31          4      NaN         903      NaN   \n138229  2008      1          13          7    640.0         645    759.0   \n755570  2008      2          14          4   1531.0        1532   1705.0   \n197311  2008      1          18          5    758.0         800      NaN   \n266313  2008      1           8          2    944.0         950   1207.0   \n543795  2008      1          25          5   1603.0        1610   1919.0   \n303748  2008      1          16          3    636.0         640    807.0   \n317586  2008      1          27          7   2154.0        2135   2211.0   \n186132  2008      1          11          5    643.0         650    755.0   \n765872  2008      2           1          5   1106.0        1110   1203.0   \n929680  2008      2          17          7   1238.0        1215   1507.0   \n501036  2008      1           7          1   1550.0        1535   1838.0   \n243685  2008      1          20          7   1314.0        1315   1559.0   \n910309  2008      2          10          7   1335.0        1340   1613.0   \n88527   2008      1          30          3    756.0         750   1215.0   \n229940  2008      1          21          1   2151.0        2050   2340.0   \n930681  2008      2          19          2   1603.0        1559   1649.0   \n638534  2008      2          12          2   1214.0        1215   1558.0   \n\n        CRSArrTime UniqueCarrier  FlightNum  ... TaxiIn  TaxiOut  Cancelled  \\\n865547        1358            US       1965  ...    4.0     16.0          0   \n490162        1735            AA        678  ...   11.0     21.0          0   \n411871         935            MQ       4358  ...    4.0     14.0          0   \n767606        1051            OO       6336  ...    5.0     11.0          0   \n152813        1433            OH       5408  ...    5.0     11.0          0   \n875413        1827            US         22  ...    4.0     27.0          0   \n616967        1135            WN       1150  ...    4.0      7.0          0   \n968117        1900            MQ       3246  ...    6.0      9.0          0   \n21363          940            WN        723  ...    3.0      6.0          0   \n391203        2145            MQ       3551  ...    2.0     11.0          0   \n749525        1228            OH       5688  ...    4.0     17.0          0   \n147279         651            YV       2639  ...    5.0     16.0          0   \n761125        1116            OH       5457  ...    NaN      NaN          1   \n150916         911            YV       7143  ...    NaN      NaN          1   \n138229         815            YV       7343  ...    5.0     12.0          0   \n755570        1706            OH       5043  ...   13.0     10.0          0   \n197311         956            OO       5861  ...    NaN     20.0          0   \n266313        1211            US        544  ...   15.0     19.0          0   \n543795        1930            AS        801  ...    3.0     26.0          0   \n303748         818            DL        691  ...    7.0     17.0          0   \n317586        2159            DL       1293  ...    6.0     20.0          0   \n186132         801            OO       5538  ...   19.0      9.0          0   \n765872        1218            OO       5778  ...    5.0     12.0          0   \n929680        1443            EV       4864  ...   10.0     12.0          0   \n501036        1820            AA       1181  ...   11.0     20.0          0   \n243685        1612            UA        896  ...    8.0     12.0          0   \n910309        1542            EV       4182  ...    5.0     38.0          0   \n88527         1220            WN        558  ...    3.0     12.0          0   \n229940        2249            UA        409  ...    3.0     10.0          0   \n930681        1647            EV       4900  ...    4.0     16.0          0   \n638534        1605            WN        844  ...   10.0     16.0          0   \n\n        CancellationCode  Diverted  CarrierDelay WeatherDelay NASDelay  \\\n865547               NaN         0           NaN          NaN      NaN   \n490162               NaN         0           0.0          0.0      9.0   \n411871               NaN         0           NaN          NaN      NaN   \n767606               NaN         0           0.0          0.0    140.0   \n152813               NaN         0           NaN          NaN      NaN   \n875413               NaN         0           8.0          0.0     52.0   \n616967               NaN         0           NaN          NaN      NaN   \n968117               NaN         0           NaN          NaN      NaN   \n21363                NaN         0           0.0          0.0     36.0   \n391203               NaN         0           NaN          NaN      NaN   \n749525               NaN         0           NaN          NaN      NaN   \n147279               NaN         0           NaN          NaN      NaN   \n761125                 B         0           NaN          NaN      NaN   \n150916                 A         0           NaN          NaN      NaN   \n138229               NaN         0           NaN          NaN      NaN   \n755570               NaN         0           NaN          NaN      NaN   \n197311               NaN         1           NaN          NaN      NaN   \n266313               NaN         0           NaN          NaN      NaN   \n543795               NaN         0           NaN          NaN      NaN   \n303748               NaN         0           NaN          NaN      NaN   \n317586               NaN         0           NaN          NaN      NaN   \n186132               NaN         0           NaN          NaN      NaN   \n765872               NaN         0           NaN          NaN      NaN   \n929680               NaN         0          23.0          0.0      1.0   \n501036               NaN         0           0.0          0.0      7.0   \n243685               NaN         0           NaN          NaN      NaN   \n910309               NaN         0           0.0          0.0     31.0   \n88527                NaN         0           NaN          NaN      NaN   \n229940               NaN         0           0.0          0.0      0.0   \n930681               NaN         0           NaN          NaN      NaN   \n638534               NaN         0           NaN          NaN      NaN   \n\n        SecurityDelay  LateAircraftDelay  \n865547            NaN                NaN  \n490162            0.0              137.0  \n411871            NaN                NaN  \n767606            0.0                0.0  \n152813            NaN                NaN  \n875413            0.0                0.0  \n616967            NaN                NaN  \n968117            NaN                NaN  \n21363             0.0                0.0  \n391203            NaN                NaN  \n749525            NaN                NaN  \n147279            NaN                NaN  \n761125            NaN                NaN  \n150916            NaN                NaN  \n138229            NaN                NaN  \n755570            NaN                NaN  \n197311            NaN                NaN  \n266313            NaN                NaN  \n543795            NaN                NaN  \n303748            NaN                NaN  \n317586            NaN                NaN  \n186132            NaN                NaN  \n765872            NaN                NaN  \n929680            0.0                0.0  \n501036            0.0               11.0  \n243685            NaN                NaN  \n910309            0.0                0.0  \n88527             NaN                NaN  \n229940            0.0               51.0  \n930681            NaN                NaN  \n638534            NaN                NaN  \n\n[31 rows x 29 columns]",
      "text/html": "<div>\n<style scoped>\n    .dataframe tbody tr th:only-of-type {\n        vertical-align: middle;\n    }\n\n    .dataframe tbody tr th {\n        vertical-align: top;\n    }\n\n    .dataframe thead th {\n        text-align: right;\n    }\n</style>\n<table border=\"1\" class=\"dataframe\">\n  <thead>\n    <tr style=\"text-align: right;\">\n      <th></th>\n      <th>Year</th>\n      <th>Month</th>\n      <th>DayofMonth</th>\n      <th>DayOfWeek</th>\n      <th>DepTime</th>\n      <th>CRSDepTime</th>\n      <th>ArrTime</th>\n      <th>CRSArrTime</th>\n      <th>UniqueCarrier</th>\n      <th>FlightNum</th>\n      <th>...</th>\n      <th>TaxiIn</th>\n      <th>TaxiOut</th>\n      <th>Cancelled</th>\n      <th>CancellationCode</th>\n      <th>Diverted</th>\n      <th>CarrierDelay</th>\n      <th>WeatherDelay</th>\n      <th>NASDelay</th>\n      <th>SecurityDelay</th>\n      <th>LateAircraftDelay</th>\n    </tr>\n  </thead>\n  <tbody>\n    <tr>\n      <th>865547</th>\n      <td>2008</td>\n      <td>2</td>\n      <td>15</td>\n      <td>5</td>\n      <td>1249.0</td>\n      <td>1256</td>\n      <td>1346.0</td>\n      <td>1358</td>\n      <td>US</td>\n      <td>1965</td>\n      <td>...</td>\n      <td>4.0</td>\n      <td>16.0</td>\n      <td>0</td>\n      <td>NaN</td>\n      <td>0</td>\n      <td>NaN</td>\n      <td>NaN</td>\n      <td>NaN</td>\n      <td>NaN</td>\n      <td>NaN</td>\n    </tr>\n    <tr>\n      <th>490162</th>\n      <td>2008</td>\n      <td>1</td>\n      <td>24</td>\n      <td>4</td>\n      <td>1832.0</td>\n      <td>1615</td>\n      <td>2001.0</td>\n      <td>1735</td>\n      <td>AA</td>\n      <td>678</td>\n      <td>...</td>\n      <td>11.0</td>\n      <td>21.0</td>\n      <td>0</td>\n      <td>NaN</td>\n      <td>0</td>\n      <td>0.0</td>\n      <td>0.0</td>\n      <td>9.0</td>\n      <td>0.0</td>\n      <td>137.0</td>\n    </tr>\n    <tr>\n      <th>411871</th>\n      <td>2008</td>\n      <td>1</td>\n      <td>5</td>\n      <td>6</td>\n      <td>740.0</td>\n      <td>740</td>\n      <td>935.0</td>\n      <td>935</td>\n      <td>MQ</td>\n      <td>4358</td>\n      <td>...</td>\n      <td>4.0</td>\n      <td>14.0</td>\n      <td>0</td>\n      <td>NaN</td>\n      <td>0</td>\n      <td>NaN</td>\n      <td>NaN</td>\n      <td>NaN</td>\n      <td>NaN</td>\n      <td>NaN</td>\n    </tr>\n    <tr>\n      <th>767606</th>\n      <td>2008</td>\n      <td>2</td>\n      <td>2</td>\n      <td>6</td>\n      <td>1151.0</td>\n      <td>946</td>\n      <td>1311.0</td>\n      <td>1051</td>\n      <td>OO</td>\n      <td>6336</td>\n      <td>...</td>\n      <td>5.0</td>\n      <td>11.0</td>\n      <td>0</td>\n      <td>NaN</td>\n      <td>0</td>\n      <td>0.0</td>\n      <td>0.0</td>\n      <td>140.0</td>\n      <td>0.0</td>\n      <td>0.0</td>\n    </tr>\n    <tr>\n      <th>152813</th>\n      <td>2008</td>\n      <td>1</td>\n      <td>4</td>\n      <td>5</td>\n      <td>1255.0</td>\n      <td>1300</td>\n      <td>1418.0</td>\n      <td>1433</td>\n      <td>OH</td>\n      <td>5408</td>\n      <td>...</td>\n      <td>5.0</td>\n      <td>11.0</td>\n      <td>0</td>\n      <td>NaN</td>\n      <td>0</td>\n      <td>NaN</td>\n      <td>NaN</td>\n      <td>NaN</td>\n      <td>NaN</td>\n      <td>NaN</td>\n    </tr>\n    <tr>\n      <th>875413</th>\n      <td>2008</td>\n      <td>2</td>\n      <td>22</td>\n      <td>5</td>\n      <td>1443.0</td>\n      <td>1435</td>\n      <td>1927.0</td>\n      <td>1827</td>\n      <td>US</td>\n      <td>22</td>\n      <td>...</td>\n      <td>4.0</td>\n      <td>27.0</td>\n      <td>0</td>\n      <td>NaN</td>\n      <td>0</td>\n      <td>8.0</td>\n      <td>0.0</td>\n      <td>52.0</td>\n      <td>0.0</td>\n      <td>0.0</td>\n    </tr>\n    <tr>\n      <th>616967</th>\n      <td>2008</td>\n      <td>2</td>\n      <td>6</td>\n      <td>3</td>\n      <td>1046.0</td>\n      <td>1035</td>\n      <td>1143.0</td>\n      <td>1135</td>\n      <td>WN</td>\n      <td>1150</td>\n      <td>...</td>\n      <td>4.0</td>\n      <td>7.0</td>\n      <td>0</td>\n      <td>NaN</td>\n      <td>0</td>\n      <td>NaN</td>\n      <td>NaN</td>\n      <td>NaN</td>\n      <td>NaN</td>\n      <td>NaN</td>\n    </tr>\n    <tr>\n      <th>968117</th>\n      <td>2008</td>\n      <td>2</td>\n      <td>28</td>\n      <td>4</td>\n      <td>1807.0</td>\n      <td>1808</td>\n      <td>1858.0</td>\n      <td>1900</td>\n      <td>MQ</td>\n      <td>3246</td>\n      <td>...</td>\n      <td>6.0</td>\n      <td>9.0</td>\n      <td>0</td>\n      <td>NaN</td>\n      <td>0</td>\n      <td>NaN</td>\n      <td>NaN</td>\n      <td>NaN</td>\n      <td>NaN</td>\n      <td>NaN</td>\n    </tr>\n    <tr>\n      <th>21363</th>\n      <td>2008</td>\n      <td>1</td>\n      <td>9</td>\n      <td>3</td>\n      <td>907.0</td>\n      <td>825</td>\n      <td>1016.0</td>\n      <td>940</td>\n      <td>WN</td>\n      <td>723</td>\n      <td>...</td>\n      <td>3.0</td>\n      <td>6.0</td>\n      <td>0</td>\n      <td>NaN</td>\n      <td>0</td>\n      <td>0.0</td>\n      <td>0.0</td>\n      <td>36.0</td>\n      <td>0.0</td>\n      <td>0.0</td>\n    </tr>\n    <tr>\n      <th>391203</th>\n      <td>2008</td>\n      <td>1</td>\n      <td>29</td>\n      <td>2</td>\n      <td>2040.0</td>\n      <td>2045</td>\n      <td>2135.0</td>\n      <td>2145</td>\n      <td>MQ</td>\n      <td>3551</td>\n      <td>...</td>\n      <td>2.0</td>\n      <td>11.0</td>\n      <td>0</td>\n      <td>NaN</td>\n      <td>0</td>\n      <td>NaN</td>\n      <td>NaN</td>\n      <td>NaN</td>\n      <td>NaN</td>\n      <td>NaN</td>\n    </tr>\n    <tr>\n      <th>749525</th>\n      <td>2008</td>\n      <td>2</td>\n      <td>3</td>\n      <td>7</td>\n      <td>953.0</td>\n      <td>1005</td>\n      <td>1234.0</td>\n      <td>1228</td>\n      <td>OH</td>\n      <td>5688</td>\n      <td>...</td>\n      <td>4.0</td>\n      <td>17.0</td>\n      <td>0</td>\n      <td>NaN</td>\n      <td>0</td>\n      <td>NaN</td>\n      <td>NaN</td>\n      <td>NaN</td>\n      <td>NaN</td>\n      <td>NaN</td>\n    </tr>\n    <tr>\n      <th>147279</th>\n      <td>2008</td>\n      <td>1</td>\n      <td>26</td>\n      <td>6</td>\n      <td>600.0</td>\n      <td>600</td>\n      <td>652.0</td>\n      <td>651</td>\n      <td>YV</td>\n      <td>2639</td>\n      <td>...</td>\n      <td>5.0</td>\n      <td>16.0</td>\n      <td>0</td>\n      <td>NaN</td>\n      <td>0</td>\n      <td>NaN</td>\n      <td>NaN</td>\n      <td>NaN</td>\n      <td>NaN</td>\n      <td>NaN</td>\n    </tr>\n    <tr>\n      <th>761125</th>\n      <td>2008</td>\n      <td>2</td>\n      <td>23</td>\n      <td>6</td>\n      <td>NaN</td>\n      <td>835</td>\n      <td>NaN</td>\n      <td>1116</td>\n      <td>OH</td>\n      <td>5457</td>\n      <td>...</td>\n      <td>NaN</td>\n      <td>NaN</td>\n      <td>1</td>\n      <td>B</td>\n      <td>0</td>\n      <td>NaN</td>\n      <td>NaN</td>\n      <td>NaN</td>\n      <td>NaN</td>\n      <td>NaN</td>\n    </tr>\n    <tr>\n      <th>150916</th>\n      <td>2008</td>\n      <td>1</td>\n      <td>31</td>\n      <td>4</td>\n      <td>NaN</td>\n      <td>903</td>\n      <td>NaN</td>\n      <td>911</td>\n      <td>YV</td>\n      <td>7143</td>\n      <td>...</td>\n      <td>NaN</td>\n      <td>NaN</td>\n      <td>1</td>\n      <td>A</td>\n      <td>0</td>\n      <td>NaN</td>\n      <td>NaN</td>\n      <td>NaN</td>\n      <td>NaN</td>\n      <td>NaN</td>\n    </tr>\n    <tr>\n      <th>138229</th>\n      <td>2008</td>\n      <td>1</td>\n      <td>13</td>\n      <td>7</td>\n      <td>640.0</td>\n      <td>645</td>\n      <td>759.0</td>\n      <td>815</td>\n      <td>YV</td>\n      <td>7343</td>\n      <td>...</td>\n      <td>5.0</td>\n      <td>12.0</td>\n      <td>0</td>\n      <td>NaN</td>\n      <td>0</td>\n      <td>NaN</td>\n      <td>NaN</td>\n      <td>NaN</td>\n      <td>NaN</td>\n      <td>NaN</td>\n    </tr>\n    <tr>\n      <th>755570</th>\n      <td>2008</td>\n      <td>2</td>\n      <td>14</td>\n      <td>4</td>\n      <td>1531.0</td>\n      <td>1532</td>\n      <td>1705.0</td>\n      <td>1706</td>\n      <td>OH</td>\n      <td>5043</td>\n      <td>...</td>\n      <td>13.0</td>\n      <td>10.0</td>\n      <td>0</td>\n      <td>NaN</td>\n      <td>0</td>\n      <td>NaN</td>\n      <td>NaN</td>\n      <td>NaN</td>\n      <td>NaN</td>\n      <td>NaN</td>\n    </tr>\n    <tr>\n      <th>197311</th>\n      <td>2008</td>\n      <td>1</td>\n      <td>18</td>\n      <td>5</td>\n      <td>758.0</td>\n      <td>800</td>\n      <td>NaN</td>\n      <td>956</td>\n      <td>OO</td>\n      <td>5861</td>\n      <td>...</td>\n      <td>NaN</td>\n      <td>20.0</td>\n      <td>0</td>\n      <td>NaN</td>\n      <td>1</td>\n      <td>NaN</td>\n      <td>NaN</td>\n      <td>NaN</td>\n      <td>NaN</td>\n      <td>NaN</td>\n    </tr>\n    <tr>\n      <th>266313</th>\n      <td>2008</td>\n      <td>1</td>\n      <td>8</td>\n      <td>2</td>\n      <td>944.0</td>\n      <td>950</td>\n      <td>1207.0</td>\n      <td>1211</td>\n      <td>US</td>\n      <td>544</td>\n      <td>...</td>\n      <td>15.0</td>\n      <td>19.0</td>\n      <td>0</td>\n      <td>NaN</td>\n      <td>0</td>\n      <td>NaN</td>\n      <td>NaN</td>\n      <td>NaN</td>\n      <td>NaN</td>\n      <td>NaN</td>\n    </tr>\n    <tr>\n      <th>543795</th>\n      <td>2008</td>\n      <td>1</td>\n      <td>25</td>\n      <td>5</td>\n      <td>1603.0</td>\n      <td>1610</td>\n      <td>1919.0</td>\n      <td>1930</td>\n      <td>AS</td>\n      <td>801</td>\n      <td>...</td>\n      <td>3.0</td>\n      <td>26.0</td>\n      <td>0</td>\n      <td>NaN</td>\n      <td>0</td>\n      <td>NaN</td>\n      <td>NaN</td>\n      <td>NaN</td>\n      <td>NaN</td>\n      <td>NaN</td>\n    </tr>\n    <tr>\n      <th>303748</th>\n      <td>2008</td>\n      <td>1</td>\n      <td>16</td>\n      <td>3</td>\n      <td>636.0</td>\n      <td>640</td>\n      <td>807.0</td>\n      <td>818</td>\n      <td>DL</td>\n      <td>691</td>\n      <td>...</td>\n      <td>7.0</td>\n      <td>17.0</td>\n      <td>0</td>\n      <td>NaN</td>\n      <td>0</td>\n      <td>NaN</td>\n      <td>NaN</td>\n      <td>NaN</td>\n      <td>NaN</td>\n      <td>NaN</td>\n    </tr>\n    <tr>\n      <th>317586</th>\n      <td>2008</td>\n      <td>1</td>\n      <td>27</td>\n      <td>7</td>\n      <td>2154.0</td>\n      <td>2135</td>\n      <td>2211.0</td>\n      <td>2159</td>\n      <td>DL</td>\n      <td>1293</td>\n      <td>...</td>\n      <td>6.0</td>\n      <td>20.0</td>\n      <td>0</td>\n      <td>NaN</td>\n      <td>0</td>\n      <td>NaN</td>\n      <td>NaN</td>\n      <td>NaN</td>\n      <td>NaN</td>\n      <td>NaN</td>\n    </tr>\n    <tr>\n      <th>186132</th>\n      <td>2008</td>\n      <td>1</td>\n      <td>11</td>\n      <td>5</td>\n      <td>643.0</td>\n      <td>650</td>\n      <td>755.0</td>\n      <td>801</td>\n      <td>OO</td>\n      <td>5538</td>\n      <td>...</td>\n      <td>19.0</td>\n      <td>9.0</td>\n      <td>0</td>\n      <td>NaN</td>\n      <td>0</td>\n      <td>NaN</td>\n      <td>NaN</td>\n      <td>NaN</td>\n      <td>NaN</td>\n      <td>NaN</td>\n    </tr>\n    <tr>\n      <th>765872</th>\n      <td>2008</td>\n      <td>2</td>\n      <td>1</td>\n      <td>5</td>\n      <td>1106.0</td>\n      <td>1110</td>\n      <td>1203.0</td>\n      <td>1218</td>\n      <td>OO</td>\n      <td>5778</td>\n      <td>...</td>\n      <td>5.0</td>\n      <td>12.0</td>\n      <td>0</td>\n      <td>NaN</td>\n      <td>0</td>\n      <td>NaN</td>\n      <td>NaN</td>\n      <td>NaN</td>\n      <td>NaN</td>\n      <td>NaN</td>\n    </tr>\n    <tr>\n      <th>929680</th>\n      <td>2008</td>\n      <td>2</td>\n      <td>17</td>\n      <td>7</td>\n      <td>1238.0</td>\n      <td>1215</td>\n      <td>1507.0</td>\n      <td>1443</td>\n      <td>EV</td>\n      <td>4864</td>\n      <td>...</td>\n      <td>10.0</td>\n      <td>12.0</td>\n      <td>0</td>\n      <td>NaN</td>\n      <td>0</td>\n      <td>23.0</td>\n      <td>0.0</td>\n      <td>1.0</td>\n      <td>0.0</td>\n      <td>0.0</td>\n    </tr>\n    <tr>\n      <th>501036</th>\n      <td>2008</td>\n      <td>1</td>\n      <td>7</td>\n      <td>1</td>\n      <td>1550.0</td>\n      <td>1535</td>\n      <td>1838.0</td>\n      <td>1820</td>\n      <td>AA</td>\n      <td>1181</td>\n      <td>...</td>\n      <td>11.0</td>\n      <td>20.0</td>\n      <td>0</td>\n      <td>NaN</td>\n      <td>0</td>\n      <td>0.0</td>\n      <td>0.0</td>\n      <td>7.0</td>\n      <td>0.0</td>\n      <td>11.0</td>\n    </tr>\n    <tr>\n      <th>243685</th>\n      <td>2008</td>\n      <td>1</td>\n      <td>20</td>\n      <td>7</td>\n      <td>1314.0</td>\n      <td>1315</td>\n      <td>1559.0</td>\n      <td>1612</td>\n      <td>UA</td>\n      <td>896</td>\n      <td>...</td>\n      <td>8.0</td>\n      <td>12.0</td>\n      <td>0</td>\n      <td>NaN</td>\n      <td>0</td>\n      <td>NaN</td>\n      <td>NaN</td>\n      <td>NaN</td>\n      <td>NaN</td>\n      <td>NaN</td>\n    </tr>\n    <tr>\n      <th>910309</th>\n      <td>2008</td>\n      <td>2</td>\n      <td>10</td>\n      <td>7</td>\n      <td>1335.0</td>\n      <td>1340</td>\n      <td>1613.0</td>\n      <td>1542</td>\n      <td>EV</td>\n      <td>4182</td>\n      <td>...</td>\n      <td>5.0</td>\n      <td>38.0</td>\n      <td>0</td>\n      <td>NaN</td>\n      <td>0</td>\n      <td>0.0</td>\n      <td>0.0</td>\n      <td>31.0</td>\n      <td>0.0</td>\n      <td>0.0</td>\n    </tr>\n    <tr>\n      <th>88527</th>\n      <td>2008</td>\n      <td>1</td>\n      <td>30</td>\n      <td>3</td>\n      <td>756.0</td>\n      <td>750</td>\n      <td>1215.0</td>\n      <td>1220</td>\n      <td>WN</td>\n      <td>558</td>\n      <td>...</td>\n      <td>3.0</td>\n      <td>12.0</td>\n      <td>0</td>\n      <td>NaN</td>\n      <td>0</td>\n      <td>NaN</td>\n      <td>NaN</td>\n      <td>NaN</td>\n      <td>NaN</td>\n      <td>NaN</td>\n    </tr>\n    <tr>\n      <th>229940</th>\n      <td>2008</td>\n      <td>1</td>\n      <td>21</td>\n      <td>1</td>\n      <td>2151.0</td>\n      <td>2050</td>\n      <td>2340.0</td>\n      <td>2249</td>\n      <td>UA</td>\n      <td>409</td>\n      <td>...</td>\n      <td>3.0</td>\n      <td>10.0</td>\n      <td>0</td>\n      <td>NaN</td>\n      <td>0</td>\n      <td>0.0</td>\n      <td>0.0</td>\n      <td>0.0</td>\n      <td>0.0</td>\n      <td>51.0</td>\n    </tr>\n    <tr>\n      <th>930681</th>\n      <td>2008</td>\n      <td>2</td>\n      <td>19</td>\n      <td>2</td>\n      <td>1603.0</td>\n      <td>1559</td>\n      <td>1649.0</td>\n      <td>1647</td>\n      <td>EV</td>\n      <td>4900</td>\n      <td>...</td>\n      <td>4.0</td>\n      <td>16.0</td>\n      <td>0</td>\n      <td>NaN</td>\n      <td>0</td>\n      <td>NaN</td>\n      <td>NaN</td>\n      <td>NaN</td>\n      <td>NaN</td>\n      <td>NaN</td>\n    </tr>\n    <tr>\n      <th>638534</th>\n      <td>2008</td>\n      <td>2</td>\n      <td>12</td>\n      <td>2</td>\n      <td>1214.0</td>\n      <td>1215</td>\n      <td>1558.0</td>\n      <td>1605</td>\n      <td>WN</td>\n      <td>844</td>\n      <td>...</td>\n      <td>10.0</td>\n      <td>16.0</td>\n      <td>0</td>\n      <td>NaN</td>\n      <td>0</td>\n      <td>NaN</td>\n      <td>NaN</td>\n      <td>NaN</td>\n      <td>NaN</td>\n      <td>NaN</td>\n    </tr>\n  </tbody>\n</table>\n<p>31 rows × 29 columns</p>\n</div>"
     },
     "metadata": {},
     "execution_count": 40
    }
   ],
   "source": [
    "dfclean.drop_duplicates(subset = \"DayofMonth\") #Elimina los duplicados para una columna especifica"
   ]
  },
  {
   "source": [
    "Para datos faltantes o perdidos"
   ],
   "cell_type": "markdown",
   "metadata": {}
  },
  {
   "cell_type": "code",
   "execution_count": 42,
   "metadata": {},
   "outputs": [
    {
     "output_type": "execute_result",
     "data": {
      "text/plain": "Empty DataFrame\nColumns: [Year, Month, DayofMonth, DayOfWeek, DepTime, CRSDepTime, ArrTime, CRSArrTime, UniqueCarrier, FlightNum, TailNum, ActualElapsedTime, CRSElapsedTime, AirTime, ArrDelay, DepDelay, Origin, Dest, Distance, TaxiIn, TaxiOut, Cancelled, CancellationCode, Diverted, CarrierDelay, WeatherDelay, NASDelay, SecurityDelay, LateAircraftDelay]\nIndex: []\n\n[0 rows x 29 columns]",
      "text/html": "<div>\n<style scoped>\n    .dataframe tbody tr th:only-of-type {\n        vertical-align: middle;\n    }\n\n    .dataframe tbody tr th {\n        vertical-align: top;\n    }\n\n    .dataframe thead th {\n        text-align: right;\n    }\n</style>\n<table border=\"1\" class=\"dataframe\">\n  <thead>\n    <tr style=\"text-align: right;\">\n      <th></th>\n      <th>Year</th>\n      <th>Month</th>\n      <th>DayofMonth</th>\n      <th>DayOfWeek</th>\n      <th>DepTime</th>\n      <th>CRSDepTime</th>\n      <th>ArrTime</th>\n      <th>CRSArrTime</th>\n      <th>UniqueCarrier</th>\n      <th>FlightNum</th>\n      <th>...</th>\n      <th>TaxiIn</th>\n      <th>TaxiOut</th>\n      <th>Cancelled</th>\n      <th>CancellationCode</th>\n      <th>Diverted</th>\n      <th>CarrierDelay</th>\n      <th>WeatherDelay</th>\n      <th>NASDelay</th>\n      <th>SecurityDelay</th>\n      <th>LateAircraftDelay</th>\n    </tr>\n  </thead>\n  <tbody>\n  </tbody>\n</table>\n<p>0 rows × 29 columns</p>\n</div>"
     },
     "metadata": {},
     "execution_count": 42
    }
   ],
   "source": [
    "df.dropna() #Borra los datos faltantes "
   ]
  },
  {
   "source": [
    "df.dropna(subset= ['CancellationCode']) "
   ],
   "cell_type": "code",
   "metadata": {},
   "execution_count": 44,
   "outputs": [
    {
     "output_type": "execute_result",
     "data": {
      "text/plain": "        Year  Month  DayofMonth  DayOfWeek  DepTime  CRSDepTime  ArrTime  \\\n178     2008      1           3          4      NaN         700      NaN   \n373     2008      1           3          4      NaN        1100      NaN   \n399     2008      1           3          4      NaN         905      NaN   \n401     2008      1           3          4      NaN        1620      NaN   \n415     2008      1           3          4      NaN        1930      NaN   \n...      ...    ...         ...        ...      ...         ...      ...   \n999913  2008      2          11          1      NaN         855      NaN   \n999919  2008      2          17          7      NaN         855      NaN   \n999961  2008      2          17          7      NaN        1445      NaN   \n999971  2008      2          22          5      NaN        1235      NaN   \n999999  2008      2          17          7      NaN        1655      NaN   \n\n        CRSArrTime UniqueCarrier  FlightNum  ... TaxiIn  TaxiOut  Cancelled  \\\n178            830            WN        126  ...    NaN      NaN          1   \n373           1215            WN       1146  ...    NaN      NaN          1   \n399           1025            WN        469  ...    NaN      NaN          1   \n401           1740            WN        618  ...    NaN      NaN          1   \n415           2035            WN       2528  ...    NaN      NaN          1   \n...            ...           ...        ...  ...    ...      ...        ...   \n999913        1210            MQ       4693  ...    NaN      NaN          1   \n999919        1210            MQ       4693  ...    NaN      NaN          1   \n999961        1630            MQ       4694  ...    NaN      NaN          1   \n999971        1415            MQ       4694  ...    NaN      NaN          1   \n999999        2005            MQ       4695  ...    NaN      NaN          1   \n\n        CancellationCode  Diverted  CarrierDelay WeatherDelay NASDelay  \\\n178                    A         0           NaN          NaN      NaN   \n373                    A         0           NaN          NaN      NaN   \n399                    A         0           NaN          NaN      NaN   \n401                    C         0           NaN          NaN      NaN   \n415                    A         0           NaN          NaN      NaN   \n...                  ...       ...           ...          ...      ...   \n999913                 A         0           NaN          NaN      NaN   \n999919                 B         0           NaN          NaN      NaN   \n999961                 B         0           NaN          NaN      NaN   \n999971                 B         0           NaN          NaN      NaN   \n999999                 B         0           NaN          NaN      NaN   \n\n        SecurityDelay  LateAircraftDelay  \n178               NaN                NaN  \n373               NaN                NaN  \n399               NaN                NaN  \n401               NaN                NaN  \n415               NaN                NaN  \n...               ...                ...  \n999913            NaN                NaN  \n999919            NaN                NaN  \n999961            NaN                NaN  \n999971            NaN                NaN  \n999999            NaN                NaN  \n\n[32133 rows x 29 columns]",
      "text/html": "<div>\n<style scoped>\n    .dataframe tbody tr th:only-of-type {\n        vertical-align: middle;\n    }\n\n    .dataframe tbody tr th {\n        vertical-align: top;\n    }\n\n    .dataframe thead th {\n        text-align: right;\n    }\n</style>\n<table border=\"1\" class=\"dataframe\">\n  <thead>\n    <tr style=\"text-align: right;\">\n      <th></th>\n      <th>Year</th>\n      <th>Month</th>\n      <th>DayofMonth</th>\n      <th>DayOfWeek</th>\n      <th>DepTime</th>\n      <th>CRSDepTime</th>\n      <th>ArrTime</th>\n      <th>CRSArrTime</th>\n      <th>UniqueCarrier</th>\n      <th>FlightNum</th>\n      <th>...</th>\n      <th>TaxiIn</th>\n      <th>TaxiOut</th>\n      <th>Cancelled</th>\n      <th>CancellationCode</th>\n      <th>Diverted</th>\n      <th>CarrierDelay</th>\n      <th>WeatherDelay</th>\n      <th>NASDelay</th>\n      <th>SecurityDelay</th>\n      <th>LateAircraftDelay</th>\n    </tr>\n  </thead>\n  <tbody>\n    <tr>\n      <th>178</th>\n      <td>2008</td>\n      <td>1</td>\n      <td>3</td>\n      <td>4</td>\n      <td>NaN</td>\n      <td>700</td>\n      <td>NaN</td>\n      <td>830</td>\n      <td>WN</td>\n      <td>126</td>\n      <td>...</td>\n      <td>NaN</td>\n      <td>NaN</td>\n      <td>1</td>\n      <td>A</td>\n      <td>0</td>\n      <td>NaN</td>\n      <td>NaN</td>\n      <td>NaN</td>\n      <td>NaN</td>\n      <td>NaN</td>\n    </tr>\n    <tr>\n      <th>373</th>\n      <td>2008</td>\n      <td>1</td>\n      <td>3</td>\n      <td>4</td>\n      <td>NaN</td>\n      <td>1100</td>\n      <td>NaN</td>\n      <td>1215</td>\n      <td>WN</td>\n      <td>1146</td>\n      <td>...</td>\n      <td>NaN</td>\n      <td>NaN</td>\n      <td>1</td>\n      <td>A</td>\n      <td>0</td>\n      <td>NaN</td>\n      <td>NaN</td>\n      <td>NaN</td>\n      <td>NaN</td>\n      <td>NaN</td>\n    </tr>\n    <tr>\n      <th>399</th>\n      <td>2008</td>\n      <td>1</td>\n      <td>3</td>\n      <td>4</td>\n      <td>NaN</td>\n      <td>905</td>\n      <td>NaN</td>\n      <td>1025</td>\n      <td>WN</td>\n      <td>469</td>\n      <td>...</td>\n      <td>NaN</td>\n      <td>NaN</td>\n      <td>1</td>\n      <td>A</td>\n      <td>0</td>\n      <td>NaN</td>\n      <td>NaN</td>\n      <td>NaN</td>\n      <td>NaN</td>\n      <td>NaN</td>\n    </tr>\n    <tr>\n      <th>401</th>\n      <td>2008</td>\n      <td>1</td>\n      <td>3</td>\n      <td>4</td>\n      <td>NaN</td>\n      <td>1620</td>\n      <td>NaN</td>\n      <td>1740</td>\n      <td>WN</td>\n      <td>618</td>\n      <td>...</td>\n      <td>NaN</td>\n      <td>NaN</td>\n      <td>1</td>\n      <td>C</td>\n      <td>0</td>\n      <td>NaN</td>\n      <td>NaN</td>\n      <td>NaN</td>\n      <td>NaN</td>\n      <td>NaN</td>\n    </tr>\n    <tr>\n      <th>415</th>\n      <td>2008</td>\n      <td>1</td>\n      <td>3</td>\n      <td>4</td>\n      <td>NaN</td>\n      <td>1930</td>\n      <td>NaN</td>\n      <td>2035</td>\n      <td>WN</td>\n      <td>2528</td>\n      <td>...</td>\n      <td>NaN</td>\n      <td>NaN</td>\n      <td>1</td>\n      <td>A</td>\n      <td>0</td>\n      <td>NaN</td>\n      <td>NaN</td>\n      <td>NaN</td>\n      <td>NaN</td>\n      <td>NaN</td>\n    </tr>\n    <tr>\n      <th>...</th>\n      <td>...</td>\n      <td>...</td>\n      <td>...</td>\n      <td>...</td>\n      <td>...</td>\n      <td>...</td>\n      <td>...</td>\n      <td>...</td>\n      <td>...</td>\n      <td>...</td>\n      <td>...</td>\n      <td>...</td>\n      <td>...</td>\n      <td>...</td>\n      <td>...</td>\n      <td>...</td>\n      <td>...</td>\n      <td>...</td>\n      <td>...</td>\n      <td>...</td>\n      <td>...</td>\n    </tr>\n    <tr>\n      <th>999913</th>\n      <td>2008</td>\n      <td>2</td>\n      <td>11</td>\n      <td>1</td>\n      <td>NaN</td>\n      <td>855</td>\n      <td>NaN</td>\n      <td>1210</td>\n      <td>MQ</td>\n      <td>4693</td>\n      <td>...</td>\n      <td>NaN</td>\n      <td>NaN</td>\n      <td>1</td>\n      <td>A</td>\n      <td>0</td>\n      <td>NaN</td>\n      <td>NaN</td>\n      <td>NaN</td>\n      <td>NaN</td>\n      <td>NaN</td>\n    </tr>\n    <tr>\n      <th>999919</th>\n      <td>2008</td>\n      <td>2</td>\n      <td>17</td>\n      <td>7</td>\n      <td>NaN</td>\n      <td>855</td>\n      <td>NaN</td>\n      <td>1210</td>\n      <td>MQ</td>\n      <td>4693</td>\n      <td>...</td>\n      <td>NaN</td>\n      <td>NaN</td>\n      <td>1</td>\n      <td>B</td>\n      <td>0</td>\n      <td>NaN</td>\n      <td>NaN</td>\n      <td>NaN</td>\n      <td>NaN</td>\n      <td>NaN</td>\n    </tr>\n    <tr>\n      <th>999961</th>\n      <td>2008</td>\n      <td>2</td>\n      <td>17</td>\n      <td>7</td>\n      <td>NaN</td>\n      <td>1445</td>\n      <td>NaN</td>\n      <td>1630</td>\n      <td>MQ</td>\n      <td>4694</td>\n      <td>...</td>\n      <td>NaN</td>\n      <td>NaN</td>\n      <td>1</td>\n      <td>B</td>\n      <td>0</td>\n      <td>NaN</td>\n      <td>NaN</td>\n      <td>NaN</td>\n      <td>NaN</td>\n      <td>NaN</td>\n    </tr>\n    <tr>\n      <th>999971</th>\n      <td>2008</td>\n      <td>2</td>\n      <td>22</td>\n      <td>5</td>\n      <td>NaN</td>\n      <td>1235</td>\n      <td>NaN</td>\n      <td>1415</td>\n      <td>MQ</td>\n      <td>4694</td>\n      <td>...</td>\n      <td>NaN</td>\n      <td>NaN</td>\n      <td>1</td>\n      <td>B</td>\n      <td>0</td>\n      <td>NaN</td>\n      <td>NaN</td>\n      <td>NaN</td>\n      <td>NaN</td>\n      <td>NaN</td>\n    </tr>\n    <tr>\n      <th>999999</th>\n      <td>2008</td>\n      <td>2</td>\n      <td>17</td>\n      <td>7</td>\n      <td>NaN</td>\n      <td>1655</td>\n      <td>NaN</td>\n      <td>2005</td>\n      <td>MQ</td>\n      <td>4695</td>\n      <td>...</td>\n      <td>NaN</td>\n      <td>NaN</td>\n      <td>1</td>\n      <td>B</td>\n      <td>0</td>\n      <td>NaN</td>\n      <td>NaN</td>\n      <td>NaN</td>\n      <td>NaN</td>\n      <td>NaN</td>\n    </tr>\n  </tbody>\n</table>\n<p>32133 rows × 29 columns</p>\n</div>"
     },
     "metadata": {},
     "execution_count": 44
    }
   ]
  },
  {
   "source": [
    "INTRODUCCIONA LA LIBRERIA NUMPY"
   ],
   "cell_type": "markdown",
   "metadata": {}
  },
  {
   "cell_type": "code",
   "execution_count": 45,
   "metadata": {},
   "outputs": [],
   "source": [
    "import numpy as np"
   ]
  },
  {
   "cell_type": "code",
   "execution_count": 47,
   "metadata": {},
   "outputs": [
    {
     "output_type": "execute_result",
     "data": {
      "text/plain": "array([[8, 7, 8, 5],\n       [2, 6, 8, 1],\n       [8, 8, 9, 5]])"
     },
     "metadata": {},
     "execution_count": 47
    }
   ],
   "source": [
    "valoraciones = np.array([[8,7,8,5],[2,6,8,1],[8,8,9,5]])\n",
    "valoraciones"
   ]
  },
  {
   "cell_type": "code",
   "execution_count": 48,
   "metadata": {},
   "outputs": [
    {
     "output_type": "execute_result",
     "data": {
      "text/plain": "7"
     },
     "metadata": {},
     "execution_count": 48
    }
   ],
   "source": [
    "valoraciones[0][1]"
   ]
  },
  {
   "cell_type": "code",
   "execution_count": 53,
   "metadata": {},
   "outputs": [],
   "source": [
    "valoraciones2 = valoraciones = np.array([[[8,7,8,5],[2,5,5,2]],[[2,6,8,4],[8,9,7,4]],[[8,8,9,3],[10,9,10,8]]])"
   ]
  },
  {
   "cell_type": "code",
   "execution_count": 54,
   "metadata": {},
   "outputs": [
    {
     "output_type": "execute_result",
     "data": {
      "text/plain": "array([[[ 8,  7,  8,  5],\n        [ 2,  5,  5,  2]],\n\n       [[ 2,  6,  8,  4],\n        [ 8,  9,  7,  4]],\n\n       [[ 8,  8,  9,  3],\n        [10,  9, 10,  8]]])"
     },
     "metadata": {},
     "execution_count": 54
    }
   ],
   "source": [
    "valoraciones2"
   ]
  },
  {
   "cell_type": "code",
   "execution_count": 55,
   "metadata": {},
   "outputs": [
    {
     "output_type": "execute_result",
     "data": {
      "text/plain": "5"
     },
     "metadata": {},
     "execution_count": 55
    }
   ],
   "source": [
    "valoraciones2[0,1,2]"
   ]
  },
  {
   "cell_type": "code",
   "execution_count": 62,
   "metadata": {},
   "outputs": [
    {
     "output_type": "execute_result",
     "data": {
      "text/plain": "array([[0., 0., 0., 0.],\n       [0., 0., 0., 0.],\n       [0., 0., 0., 0.],\n       [0., 0., 0., 0.],\n       [0., 0., 0., 0.]])"
     },
     "metadata": {},
     "execution_count": 62
    }
   ],
   "source": [
    "np.zeros((5,4))"
   ]
  },
  {
   "cell_type": "code",
   "execution_count": 63,
   "metadata": {},
   "outputs": [
    {
     "output_type": "execute_result",
     "data": {
      "text/plain": "array([[[ 9.,  8.,  9.,  6.],\n        [ 3.,  6.,  6.,  3.]],\n\n       [[ 3.,  7.,  9.,  5.],\n        [ 9., 10.,  8.,  5.]],\n\n       [[ 9.,  9., 10.,  4.],\n        [11., 10., 11.,  9.]]])"
     },
     "metadata": {},
     "execution_count": 63
    }
   ],
   "source": [
    "valoraciones2 + np.ones((3,2,4))"
   ]
  },
  {
   "cell_type": "code",
   "execution_count": 64,
   "metadata": {},
   "outputs": [
    {
     "output_type": "execute_result",
     "data": {
      "text/plain": "10"
     },
     "metadata": {},
     "execution_count": 64
    }
   ],
   "source": [
    "np.max(valoraciones2)"
   ]
  },
  {
   "cell_type": "code",
   "execution_count": 65,
   "metadata": {},
   "outputs": [
    {
     "output_type": "execute_result",
     "data": {
      "text/plain": "array([[5. , 6. , 6.5, 3.5],\n       [5. , 7.5, 7.5, 4. ],\n       [9. , 8.5, 9.5, 5.5]])"
     },
     "metadata": {},
     "execution_count": 65
    }
   ],
   "source": [
    "np.mean(valoraciones2, axis=1)"
   ]
  },
  {
   "cell_type": "code",
   "execution_count": 70,
   "metadata": {},
   "outputs": [
    {
     "output_type": "execute_result",
     "data": {
      "text/plain": "array([[0.17240201, 0.11149025],\n       [0.73546893, 0.44368597]])"
     },
     "metadata": {},
     "execution_count": 70
    }
   ],
   "source": [
    "np.random.rand(2,2)"
   ]
  },
  {
   "cell_type": "code",
   "execution_count": null,
   "metadata": {},
   "outputs": [],
   "source": []
  }
 ]
}