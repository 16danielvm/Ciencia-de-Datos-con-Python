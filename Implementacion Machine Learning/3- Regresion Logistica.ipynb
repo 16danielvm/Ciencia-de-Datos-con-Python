{
 "metadata": {
  "language_info": {
   "codemirror_mode": {
    "name": "ipython",
    "version": 3
   },
   "file_extension": ".py",
   "mimetype": "text/x-python",
   "name": "python",
   "nbconvert_exporter": "python",
   "pygments_lexer": "ipython3",
   "version": "3.7.6-final"
  },
  "orig_nbformat": 2,
  "kernelspec": {
   "name": "python_defaultSpec_1600383756295",
   "display_name": "Python 3.7.6 64-bit"
  }
 },
 "nbformat": 4,
 "nbformat_minor": 2,
 "cells": [
  {
   "cell_type": "code",
   "execution_count": 2,
   "metadata": {},
   "outputs": [],
   "source": [
    "import pandas as pd\n",
    "import numpy as np\n",
    "from sklearn.linear_model import LogisticRegression \n",
    "from sklearn.metrics import confusion_matrix\n",
    "import matplotlib.pyplot as plt\n",
    "\n",
    "df = pd.read_csv(\"base_datos_2008.csv\") #Carga base de datos"
   ]
  },
  {
   "cell_type": "code",
   "execution_count": 3,
   "metadata": {},
   "outputs": [],
   "source": [
    "df = df.dropna(subset=['ArrDelay']) #Elimina los datos faltantes de la columna\n",
    "df = df.sample(frac=1).head(100000)\n",
    "Y = df[\"ArrDelay\"] < 30 #Vuelos que se hayan retrasado menos de 30 min True = 1 / False = 0\n",
    "X = df[[\"DepDelay\"]] #Retraso en la salida"
   ]
  },
  {
   "cell_type": "code",
   "execution_count": 5,
   "metadata": {},
   "outputs": [],
   "source": [
    "logregr = LogisticRegression() #Se crea el modelo\n",
    "logregr.fit(X,Y) #Ajusta el modelo\n",
    "\n",
    "Y_pred = logregr.predict(X) #Realiza la prediccion\n"
   ]
  },
  {
   "cell_type": "code",
   "execution_count": 6,
   "metadata": {},
   "outputs": [
    {
     "output_type": "execute_result",
     "data": {
      "text/plain": "array([[0.01 , 0.99 ],\n       [0.008, 0.992],\n       [0.018, 0.982],\n       ...,\n       [0.014, 0.986],\n       [0.016, 0.984],\n       [0.029, 0.971]])"
     },
     "metadata": {},
     "execution_count": 6
    }
   ],
   "source": [
    "np.round(logregr.predict_proba(X),3) #Obtiene probabilidades"
   ]
  },
  {
   "cell_type": "code",
   "execution_count": 7,
   "metadata": {},
   "outputs": [
    {
     "output_type": "execute_result",
     "data": {
      "text/plain": "0.95665"
     },
     "metadata": {},
     "execution_count": 7
    }
   ],
   "source": [
    "np.mean(Y_pred == Y) "
   ]
  },
  {
   "cell_type": "code",
   "execution_count": 8,
   "metadata": {},
   "outputs": [
    {
     "output_type": "execute_result",
     "data": {
      "text/plain": "0.86303"
     },
     "metadata": {},
     "execution_count": 8
    }
   ],
   "source": [
    "np.mean(Y)"
   ]
  },
  {
   "cell_type": "code",
   "execution_count": 9,
   "metadata": {
    "tags": []
   },
   "outputs": [
    {
     "output_type": "stream",
     "name": "stdout",
     "text": "[[10368  3329]\n [ 1006 85297]]\n"
    }
   ],
   "source": [
    "confusion_matrix = confusion_matrix(Y, Y_pred)\n",
    "print(confusion_matrix)"
   ]
  },
  {
   "cell_type": "code",
   "execution_count": null,
   "metadata": {},
   "outputs": [],
   "source": []
  }
 ]
}