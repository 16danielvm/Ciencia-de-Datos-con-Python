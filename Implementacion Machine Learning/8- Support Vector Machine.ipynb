{
 "metadata": {
  "language_info": {
   "codemirror_mode": {
    "name": "ipython",
    "version": 3
   },
   "file_extension": ".py",
   "mimetype": "text/x-python",
   "name": "python",
   "nbconvert_exporter": "python",
   "pygments_lexer": "ipython3",
   "version": 3
  },
  "orig_nbformat": 2
 },
 "nbformat": 4,
 "nbformat_minor": 2,
 "cells": [
  {
   "cell_type": "code",
   "execution_count": null,
   "metadata": {},
   "outputs": [],
   "source": [
    "from sklearn import SVC\n",
    "import numpy as np\n",
    "import pandas as pd\n",
    "\n",
    "df = pd.read_csv(\"base_datos_2008.csv\")\n",
    "df = df.dropna(subset=[\"ArrDelay\"])\n",
    "df = df.sample(frac=1)\n",
    "dftest = df.tail(1000)\n",
    "df = df.head(1000)"
   ]
  },
  {
   "cell_type": "code",
   "execution_count": null,
   "metadata": {},
   "outputs": [],
   "source": [
    "X = df[[\"Distance\", \"AirTime\", 'DepTime', 'TaxiIn','TaxiOut','DepDelay']]\n",
    "X_test = dftest[[\"Distance\", \"AirTime\", 'DepTime', 'TaxiIn','TaxiOut','DepDelay']]\n",
    "Y = df[\"ArrDelay\"] >10\n",
    "Y_test = dftest[\"ArrDelay\"] >10\n",
    "\n",
    "clf = SVC(kernel = \"linear\") #Linear / poly / rbf / sigmoid\n",
    "\n",
    "clf = clf.fit(X,Y)\n",
    "Y_pred = clf.predict(X_test)"
   ]
  },
  {
   "cell_type": "code",
   "execution_count": null,
   "metadata": {},
   "outputs": [],
   "source": [
    "np.mean(Y_pred == Y_test)"
   ]
  },
  {
   "cell_type": "code",
   "execution_count": null,
   "metadata": {},
   "outputs": [],
   "source": []
  }
 ]
}