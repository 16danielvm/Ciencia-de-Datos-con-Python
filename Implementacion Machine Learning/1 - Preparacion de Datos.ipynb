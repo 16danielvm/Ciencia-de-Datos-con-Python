{
 "metadata": {
  "language_info": {
   "codemirror_mode": {
    "name": "ipython",
    "version": 3
   },
   "file_extension": ".py",
   "mimetype": "text/x-python",
   "name": "python",
   "nbconvert_exporter": "python",
   "pygments_lexer": "ipython3",
   "version": "3.7.6-final"
  },
  "orig_nbformat": 2,
  "kernelspec": {
   "name": "python_defaultSpec_1600123982669",
   "display_name": "Python 3.7.6 64-bit"
  }
 },
 "nbformat": 4,
 "nbformat_minor": 2,
 "cells": [
  {
   "cell_type": "code",
   "execution_count": 1,
   "metadata": {},
   "outputs": [],
   "source": [
    "from sklearn import preprocessing\n",
    "import pandas as pd\n",
    "import numpy as np"
   ]
  },
  {
   "cell_type": "code",
   "execution_count": 4,
   "metadata": {},
   "outputs": [],
   "source": [
    "df = pd.read_csv('base_datos_2008.csv', nrows= 1000000)\n",
    "df = df[[\"ArrDelay\",\"DepDelay\",\"Distance\",\"AirTime\"]].dropna()"
   ]
  },
  {
   "cell_type": "code",
   "execution_count": 5,
   "metadata": {},
   "outputs": [
    {
     "output_type": "execute_result",
     "data": {
      "text/plain": "array([[-0.62279474, -0.11867759,  0.21368671,  0.22947535],\n       [-0.22769689,  0.1781292 ,  0.21368671,  0.18373789],\n       [ 0.06862649, -0.11867759, -0.33122127, -0.38035736],\n       ...,\n       [-0.0795352 , -0.55039656,  0.3873184 ,  0.35144189],\n       [-0.4005522 , -0.38850194,  0.3873184 ,  0.19898371],\n       [-0.62279474, -0.46944925,  0.3873184 ,  0.09226299]])"
     },
     "metadata": {},
     "execution_count": 5
    }
   ],
   "source": [
    "X_scaled = preprocessing.scale(df) #Escala los datos\n",
    "X_scaled"
   ]
  },
  {
   "cell_type": "code",
   "execution_count": 7,
   "metadata": {},
   "outputs": [
    {
     "output_type": "execute_result",
     "data": {
      "text/plain": "array([1., 1., 1., 1.])"
     },
     "metadata": {},
     "execution_count": 7
    }
   ],
   "source": [
    "X_scaled.std(axis=0)"
   ]
  },
  {
   "cell_type": "code",
   "execution_count": 8,
   "metadata": {},
   "outputs": [
    {
     "output_type": "execute_result",
     "data": {
      "text/plain": "ArrDelay     14.0\nDepDelay      8.0\nDistance    515.0\nAirTime      76.0\nName: 2, dtype: float64"
     },
     "metadata": {},
     "execution_count": 8
    }
   ],
   "source": [
    "df.iloc[2]"
   ]
  },
  {
   "cell_type": "code",
   "execution_count": 9,
   "metadata": {},
   "outputs": [
    {
     "output_type": "execute_result",
     "data": {
      "text/plain": "array([ 0.06862649, -0.11867759, -0.33122127, -0.38035736])"
     },
     "metadata": {},
     "execution_count": 9
    }
   ],
   "source": [
    "X_scaled[2]"
   ]
  },
  {
   "cell_type": "code",
   "execution_count": 10,
   "metadata": {},
   "outputs": [
    {
     "output_type": "execute_result",
     "data": {
      "text/plain": "array([[0.47648515, 0.69013112, 1.59173755, 1.79844961],\n       [0.57549505, 0.76604555, 1.59173755, 1.75193798],\n       [0.64975248, 0.69013112, 0.99432969, 1.17829457],\n       ...,\n       [0.61262376, 0.57971014, 1.78209802, 1.92248062],\n       [0.53217822, 0.62111801, 1.78209802, 1.76744186],\n       [0.47648515, 0.60041408, 1.78209802, 1.65891473]])"
     },
     "metadata": {},
     "execution_count": 10
    }
   ],
   "source": [
    "#Otro tipo de escalado\n",
    "min_max_scaler = preprocessing.MinMaxScaler([0,10]) #Especifica el rango de valores que quiere que tenga\n",
    "x_train_minmax = min_max_scaler.fit_transform(df) \n",
    "x_train_minmax"
   ]
  },
  {
   "cell_type": "code",
   "execution_count": 13,
   "metadata": {},
   "outputs": [
    {
     "output_type": "execute_result",
     "data": {
      "text/plain": "    IAD  IND  ISP  JAN  JAX  LAS\n0     1    0    0    0    0    0\n1     1    0    0    0    0    0\n2     0    1    0    0    0    0\n3     0    1    0    0    0    0\n4     0    1    0    0    0    0\n..  ...  ...  ...  ...  ...  ...\n95    0    0    0    0    0    1\n96    0    0    0    0    0    1\n97    0    0    0    0    0    1\n98    0    0    0    0    0    1\n99    0    0    0    0    0    1\n\n[100 rows x 6 columns]",
      "text/html": "<div>\n<style scoped>\n    .dataframe tbody tr th:only-of-type {\n        vertical-align: middle;\n    }\n\n    .dataframe tbody tr th {\n        vertical-align: top;\n    }\n\n    .dataframe thead th {\n        text-align: right;\n    }\n</style>\n<table border=\"1\" class=\"dataframe\">\n  <thead>\n    <tr style=\"text-align: right;\">\n      <th></th>\n      <th>IAD</th>\n      <th>IND</th>\n      <th>ISP</th>\n      <th>JAN</th>\n      <th>JAX</th>\n      <th>LAS</th>\n    </tr>\n  </thead>\n  <tbody>\n    <tr>\n      <th>0</th>\n      <td>1</td>\n      <td>0</td>\n      <td>0</td>\n      <td>0</td>\n      <td>0</td>\n      <td>0</td>\n    </tr>\n    <tr>\n      <th>1</th>\n      <td>1</td>\n      <td>0</td>\n      <td>0</td>\n      <td>0</td>\n      <td>0</td>\n      <td>0</td>\n    </tr>\n    <tr>\n      <th>2</th>\n      <td>0</td>\n      <td>1</td>\n      <td>0</td>\n      <td>0</td>\n      <td>0</td>\n      <td>0</td>\n    </tr>\n    <tr>\n      <th>3</th>\n      <td>0</td>\n      <td>1</td>\n      <td>0</td>\n      <td>0</td>\n      <td>0</td>\n      <td>0</td>\n    </tr>\n    <tr>\n      <th>4</th>\n      <td>0</td>\n      <td>1</td>\n      <td>0</td>\n      <td>0</td>\n      <td>0</td>\n      <td>0</td>\n    </tr>\n    <tr>\n      <th>...</th>\n      <td>...</td>\n      <td>...</td>\n      <td>...</td>\n      <td>...</td>\n      <td>...</td>\n      <td>...</td>\n    </tr>\n    <tr>\n      <th>95</th>\n      <td>0</td>\n      <td>0</td>\n      <td>0</td>\n      <td>0</td>\n      <td>0</td>\n      <td>1</td>\n    </tr>\n    <tr>\n      <th>96</th>\n      <td>0</td>\n      <td>0</td>\n      <td>0</td>\n      <td>0</td>\n      <td>0</td>\n      <td>1</td>\n    </tr>\n    <tr>\n      <th>97</th>\n      <td>0</td>\n      <td>0</td>\n      <td>0</td>\n      <td>0</td>\n      <td>0</td>\n      <td>1</td>\n    </tr>\n    <tr>\n      <th>98</th>\n      <td>0</td>\n      <td>0</td>\n      <td>0</td>\n      <td>0</td>\n      <td>0</td>\n      <td>1</td>\n    </tr>\n    <tr>\n      <th>99</th>\n      <td>0</td>\n      <td>0</td>\n      <td>0</td>\n      <td>0</td>\n      <td>0</td>\n      <td>1</td>\n    </tr>\n  </tbody>\n</table>\n<p>100 rows × 6 columns</p>\n</div>"
     },
     "metadata": {},
     "execution_count": 13
    }
   ],
   "source": [
    "#Otro tipo\n",
    "df1 = pd.read_csv(\"base_datos_2008.csv\", nrows=100)\n",
    "pd.get_dummies(df1[\"Origin\"]) #Transforma la columna Origin para cada una de las categorias"
   ]
  },
  {
   "cell_type": "code",
   "execution_count": null,
   "metadata": {},
   "outputs": [],
   "source": []
  }
 ]
}