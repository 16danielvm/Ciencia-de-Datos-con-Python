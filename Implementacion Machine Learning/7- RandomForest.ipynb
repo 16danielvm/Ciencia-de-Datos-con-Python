{
 "metadata": {
  "language_info": {
   "codemirror_mode": {
    "name": "ipython",
    "version": 3
   },
   "file_extension": ".py",
   "mimetype": "text/x-python",
   "name": "python",
   "nbconvert_exporter": "python",
   "pygments_lexer": "ipython3",
   "version": 3
  },
  "orig_nbformat": 2
 },
 "nbformat": 4,
 "nbformat_minor": 2,
 "cells": [
  {
   "source": [
    "RANDOM FOREST "
   ],
   "cell_type": "markdown",
   "metadata": {}
  },
  {
   "cell_type": "code",
   "execution_count": null,
   "metadata": {},
   "outputs": [],
   "source": [
    "from sklearn import tree\n",
    "import numpy as np\n",
    "import pandas as pd\n",
    "import sklearn.ensemble import RandomForestClassifier\n",
    "\n",
    "df = pd.read_csv(\"base_datos_2008.csv\")\n",
    "df = df.dropna(subset=[\"ArrDelay\"])\n",
    "df = df.sample(frac=1)\n",
    "dftest = df.tail(500000)\n",
    "df = df.head(500000)"
   ]
  },
  {
   "cell_type": "code",
   "execution_count": null,
   "metadata": {},
   "outputs": [],
   "source": [
    "clf = tree.DesicionTreeClassifier()\n",
    "\n",
    "X = df[[\"Distance\", \"AirTime\", 'DepTime', 'TaxiIn','TaxiOut','DepDelay']]\n",
    "X_test = dftest[[\"Distance\", \"AirTime\", 'DepTime', 'TaxiIn','TaxiOut','DepDelay']]\n",
    "Y = df[\"ArrDelay\"] >10\n",
    "Y_test = dftest[\"ArrDelay\"] >10\n",
    "\n",
    "clf = clf.fit(X,Y)\n",
    "Y_pred_test = clf.predict(X_test)"
   ]
  },
  {
   "cell_type": "code",
   "execution_count": null,
   "metadata": {},
   "outputs": [],
   "source": [
    "np.mean(Y_test == Y_pred_test)"
   ]
  },
  {
   "cell_type": "code",
   "execution_count": null,
   "metadata": {},
   "outputs": [],
   "source": [
    "clf = RandomForestClassifier(n_estimators =100,n_jobs = -1)\n",
    "clf = clf.fit(X,Y)\n",
    "Y_pred_test = clf.predict(X_test)\n",
    "\n",
    "clf.feature_importances_"
   ]
  },
  {
   "cell_type": "code",
   "execution_count": null,
   "metadata": {},
   "outputs": [],
   "source": [
    "np_mena(Y_test == Y_pred_test)"
   ]
  }
 ]
}